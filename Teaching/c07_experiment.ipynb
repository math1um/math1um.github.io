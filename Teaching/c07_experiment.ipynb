{
 "cells": [
  {
   "cell_type": "markdown",
   "id": "0237f19d-c295-4131-a5ab-80814016fdee",
   "metadata": {},
   "source": [
    "We will copy the commands from the Titanic example and apply them to a new data set (c06_data.xlsx)"
   ]
  },
  {
   "cell_type": "code",
   "execution_count": 2,
   "id": "b039301c-886c-4735-97bb-46d45d29e196",
   "metadata": {},
   "outputs": [
    {
     "name": "stderr",
     "output_type": "stream",
     "text": [
      "/tmp/ipykernel_3436236/3289088492.py:1: DeprecationWarning: \n",
      "Pyarrow will become a required dependency of pandas in the next major release of pandas (pandas 3.0),\n",
      "(to allow more performant data types, such as the Arrow string type, and better interoperability with other libraries)\n",
      "but was not found to be installed on your system.\n",
      "If this would cause problems for you,\n",
      "please provide us feedback at https://github.com/pandas-dev/pandas/issues/54466\n",
      "        \n",
      "  import pandas as pd\n"
     ]
    }
   ],
   "source": [
    "import pandas as pd\n",
    "import numpy as np\n",
    "import sys\n",
    "from sklearn.model_selection import train_test_split\n",
    "load(\"~/conjecturing/sage/conjecturing.py\")"
   ]
  },
  {
   "cell_type": "code",
   "execution_count": 1,
   "id": "cce24d71-1198-4069-b815-481caec9da82",
   "metadata": {},
   "outputs": [
    {
     "data": {
      "text/plain": [
       "'/lustre/home/clarson/C07_experiment'"
      ]
     },
     "execution_count": 1,
     "metadata": {},
     "output_type": "execute_result"
    }
   ],
   "source": [
    "pwd"
   ]
  },
  {
   "cell_type": "code",
   "execution_count": 3,
   "id": "3f8290ce-1ed7-4ca0-9f5a-8a5b7d69809f",
   "metadata": {},
   "outputs": [],
   "source": [
    "inv_file = open(\"2024_02_20_inv.txt\", \"w\")\n",
    "prop_file = open(\"2024_02_20_prop.txt\", \"w\")"
   ]
  },
  {
   "cell_type": "markdown",
   "id": "5feecc58-edf9-4ce1-ac96-ddf53da6b2a8",
   "metadata": {},
   "source": [
    "Specify the number of examples to use for conjecturing and skips."
   ]
  },
  {
   "cell_type": "code",
   "execution_count": 5,
   "id": "bce6750c-bed5-4f50-8e96-2a166c94cb14",
   "metadata": {},
   "outputs": [],
   "source": [
    "num_train = 10\n",
    "my_skips = 0.3"
   ]
  },
  {
   "cell_type": "markdown",
   "id": "e3d1070c-ffe0-456d-a455-737a2290710a",
   "metadata": {},
   "source": [
    "Read data. Note that we're using the c07_data file, which should be in this directory. Also note that, in constrast to the Titanic csv file, we're opening a xlsx file, so first we need to install the needed pandas package"
   ]
  },
  {
   "cell_type": "code",
   "execution_count": 10,
   "id": "3c741399-dfb8-4ecd-bfbb-69b3899f6ca5",
   "metadata": {},
   "outputs": [
    {
     "name": "stdout",
     "output_type": "stream",
     "text": [
      "Collecting openpyxl\n",
      "  Downloading openpyxl-3.1.2-py2.py3-none-any.whl.metadata (2.5 kB)\n",
      "Collecting et-xmlfile (from openpyxl)\n",
      "  Downloading et_xmlfile-1.1.0-py3-none-any.whl.metadata (1.8 kB)\n",
      "Downloading openpyxl-3.1.2-py2.py3-none-any.whl (249 kB)\n",
      "\u001b[2K   \u001b[90m━━━━━━━━━━━━━━━━━━━━━━━━━━━━━━━━━━━━━━━━\u001b[0m \u001b[32m250.0/250.0 kB\u001b[0m \u001b[31m9.8 MB/s\u001b[0m eta \u001b[36m0:00:00\u001b[0m\n",
      "\u001b[?25hDownloading et_xmlfile-1.1.0-py3-none-any.whl (4.7 kB)\n",
      "Installing collected packages: et-xmlfile, openpyxl\n",
      "Successfully installed et-xmlfile-1.1.0 openpyxl-3.1.2\n",
      "Note: you may need to restart the kernel to use updated packages.\n"
     ]
    }
   ],
   "source": [
    " pip install openpyxl"
   ]
  },
  {
   "cell_type": "code",
   "execution_count": 6,
   "id": "1d008fb1-4fb4-448a-a7ba-226432169f8b",
   "metadata": {},
   "outputs": [
    {
     "name": "stdout",
     "output_type": "stream",
     "text": [
      "(98, 37)\n"
     ]
    },
    {
     "data": {
      "text/html": [
       "<div>\n",
       "<style scoped>\n",
       "    .dataframe tbody tr th:only-of-type {\n",
       "        vertical-align: middle;\n",
       "    }\n",
       "\n",
       "    .dataframe tbody tr th {\n",
       "        vertical-align: top;\n",
       "    }\n",
       "\n",
       "    .dataframe thead th {\n",
       "        text-align: right;\n",
       "    }\n",
       "</style>\n",
       "<table border=\"1\" class=\"dataframe\">\n",
       "  <thead>\n",
       "    <tr style=\"text-align: right;\">\n",
       "      <th></th>\n",
       "      <th>QID</th>\n",
       "      <th>title</th>\n",
       "      <th>questioncontent</th>\n",
       "      <th>questiontime</th>\n",
       "      <th>category</th>\n",
       "      <th>no_answer</th>\n",
       "      <th>ques_viewership</th>\n",
       "      <th>ques_care</th>\n",
       "      <th>ques_save</th>\n",
       "      <th>user</th>\n",
       "      <th>...</th>\n",
       "      <th>Length_CARE</th>\n",
       "      <th>Length_EMPATHY</th>\n",
       "      <th>Length_ENCOURAGEMENT</th>\n",
       "      <th>Length_GREET</th>\n",
       "      <th>Length_INTRO</th>\n",
       "      <th>Length_INVITE</th>\n",
       "      <th>Length_QUES</th>\n",
       "      <th>Length_REFERRAL</th>\n",
       "      <th>Length_RELIEF</th>\n",
       "      <th>Length_SELFDISC</th>\n",
       "    </tr>\n",
       "  </thead>\n",
       "  <tbody>\n",
       "    <tr>\n",
       "      <th>0</th>\n",
       "      <td>100788023</td>\n",
       "      <td>看老年相亲节目，很震撼，人越来越没人情味?</td>\n",
       "      <td>\\n                今天刷QQ看点，看老年相亲节目很震撼。我发现很多人相亲，...</td>\n",
       "      <td>2021-12-30</td>\n",
       "      <td>人际\\n矛盾冲突\\n欺骗与信任\\n</td>\n",
       "      <td>1</td>\n",
       "      <td>446</td>\n",
       "      <td>1</td>\n",
       "      <td>0</td>\n",
       "      <td>貍奴</td>\n",
       "      <td>...</td>\n",
       "      <td>0.738933</td>\n",
       "      <td>11.336394</td>\n",
       "      <td>19.642294</td>\n",
       "      <td>5.621919</td>\n",
       "      <td>10.037360</td>\n",
       "      <td>0.408828</td>\n",
       "      <td>51.137257</td>\n",
       "      <td>1.786713</td>\n",
       "      <td>61.440305</td>\n",
       "      <td>38.877376</td>\n",
       "    </tr>\n",
       "    <tr>\n",
       "      <th>1</th>\n",
       "      <td>100788009</td>\n",
       "      <td>爱上别人和她分手，现在内疚到不能原谅自己怎么办？</td>\n",
       "      <td>\\n                最近下班后常常陷入自责的情绪，觉得自己是人渣，怎么可以因...</td>\n",
       "      <td>2021-12-30</td>\n",
       "      <td>恋爱\\n失恋\\n恋爱经营\\n</td>\n",
       "      <td>1</td>\n",
       "      <td>710</td>\n",
       "      <td>1</td>\n",
       "      <td>0</td>\n",
       "      <td>壹心理小耳朵</td>\n",
       "      <td>...</td>\n",
       "      <td>27.390583</td>\n",
       "      <td>23.651150</td>\n",
       "      <td>17.301045</td>\n",
       "      <td>4.525563</td>\n",
       "      <td>1.527955</td>\n",
       "      <td>0.014117</td>\n",
       "      <td>57.369216</td>\n",
       "      <td>0.729676</td>\n",
       "      <td>2.207771</td>\n",
       "      <td>0.337286</td>\n",
       "    </tr>\n",
       "    <tr>\n",
       "      <th>2</th>\n",
       "      <td>100788013</td>\n",
       "      <td>失眠半年了，入睡困难，偶尔睡着，也被噩梦惊醒？</td>\n",
       "      <td>\\n                感觉身体非常疲惫，但是大脑一直处于兴奋状态，真的睡不着，...</td>\n",
       "      <td>2021-12-30</td>\n",
       "      <td>行为\\n熬夜\\n</td>\n",
       "      <td>8</td>\n",
       "      <td>957</td>\n",
       "      <td>4</td>\n",
       "      <td>0</td>\n",
       "      <td>羯傲不寻</td>\n",
       "      <td>...</td>\n",
       "      <td>0.201711</td>\n",
       "      <td>30.693097</td>\n",
       "      <td>13.733834</td>\n",
       "      <td>12.506360</td>\n",
       "      <td>3.385092</td>\n",
       "      <td>0.969819</td>\n",
       "      <td>145.799155</td>\n",
       "      <td>264.619853</td>\n",
       "      <td>44.332308</td>\n",
       "      <td>621.770329</td>\n",
       "    </tr>\n",
       "    <tr>\n",
       "      <th>3</th>\n",
       "      <td>100788013</td>\n",
       "      <td>失眠半年了，入睡困难，偶尔睡着，也被噩梦惊醒？</td>\n",
       "      <td>\\n                感觉身体非常疲惫，但是大脑一直处于兴奋状态，真的睡不着，...</td>\n",
       "      <td>2021-12-30</td>\n",
       "      <td>行为\\n熬夜\\n</td>\n",
       "      <td>8</td>\n",
       "      <td>957</td>\n",
       "      <td>4</td>\n",
       "      <td>0</td>\n",
       "      <td>羯傲不寻</td>\n",
       "      <td>...</td>\n",
       "      <td>0.201711</td>\n",
       "      <td>30.693097</td>\n",
       "      <td>13.733834</td>\n",
       "      <td>12.506360</td>\n",
       "      <td>3.385092</td>\n",
       "      <td>0.969819</td>\n",
       "      <td>145.799155</td>\n",
       "      <td>264.619853</td>\n",
       "      <td>44.332308</td>\n",
       "      <td>621.770329</td>\n",
       "    </tr>\n",
       "    <tr>\n",
       "      <th>4</th>\n",
       "      <td>100788013</td>\n",
       "      <td>失眠半年了，入睡困难，偶尔睡着，也被噩梦惊醒？</td>\n",
       "      <td>\\n                感觉身体非常疲惫，但是大脑一直处于兴奋状态，真的睡不着，...</td>\n",
       "      <td>2021-12-30</td>\n",
       "      <td>行为\\n熬夜\\n</td>\n",
       "      <td>8</td>\n",
       "      <td>957</td>\n",
       "      <td>4</td>\n",
       "      <td>0</td>\n",
       "      <td>仙仙人</td>\n",
       "      <td>...</td>\n",
       "      <td>10.001072</td>\n",
       "      <td>42.844507</td>\n",
       "      <td>16.524492</td>\n",
       "      <td>3.395771</td>\n",
       "      <td>47.373219</td>\n",
       "      <td>0.439851</td>\n",
       "      <td>183.726062</td>\n",
       "      <td>135.148537</td>\n",
       "      <td>58.362193</td>\n",
       "      <td>73.977332</td>\n",
       "    </tr>\n",
       "  </tbody>\n",
       "</table>\n",
       "<p>5 rows × 37 columns</p>\n",
       "</div>"
      ],
      "text/plain": [
       "         QID                     title  \\\n",
       "0  100788023     看老年相亲节目，很震撼，人越来越没人情味?   \n",
       "1  100788009  爱上别人和她分手，现在内疚到不能原谅自己怎么办？   \n",
       "2  100788013   失眠半年了，入睡困难，偶尔睡着，也被噩梦惊醒？   \n",
       "3  100788013   失眠半年了，入睡困难，偶尔睡着，也被噩梦惊醒？   \n",
       "4  100788013   失眠半年了，入睡困难，偶尔睡着，也被噩梦惊醒？   \n",
       "\n",
       "                                     questioncontent questiontime  \\\n",
       "0  \\n                今天刷QQ看点，看老年相亲节目很震撼。我发现很多人相亲，...   2021-12-30   \n",
       "1  \\n                最近下班后常常陷入自责的情绪，觉得自己是人渣，怎么可以因...   2021-12-30   \n",
       "2  \\n                感觉身体非常疲惫，但是大脑一直处于兴奋状态，真的睡不着，...   2021-12-30   \n",
       "3  \\n                感觉身体非常疲惫，但是大脑一直处于兴奋状态，真的睡不着，...   2021-12-30   \n",
       "4  \\n                感觉身体非常疲惫，但是大脑一直处于兴奋状态，真的睡不着，...   2021-12-30   \n",
       "\n",
       "            category  no_answer  ques_viewership  ques_care  ques_save  \\\n",
       "0  人际\\n矛盾冲突\\n欺骗与信任\\n          1              446          1          0   \n",
       "1     恋爱\\n失恋\\n恋爱经营\\n          1              710          1          0   \n",
       "2           行为\\n熬夜\\n          8              957          4          0   \n",
       "3           行为\\n熬夜\\n          8              957          4          0   \n",
       "4           行为\\n熬夜\\n          8              957          4          0   \n",
       "\n",
       "     user  ...  Length_CARE  Length_EMPATHY  Length_ENCOURAGEMENT  \\\n",
       "0      貍奴  ...     0.738933       11.336394             19.642294   \n",
       "1  壹心理小耳朵  ...    27.390583       23.651150             17.301045   \n",
       "2    羯傲不寻  ...     0.201711       30.693097             13.733834   \n",
       "3    羯傲不寻  ...     0.201711       30.693097             13.733834   \n",
       "4     仙仙人  ...    10.001072       42.844507             16.524492   \n",
       "\n",
       "   Length_GREET Length_INTRO  Length_INVITE  Length_QUES  Length_REFERRAL  \\\n",
       "0      5.621919    10.037360       0.408828    51.137257         1.786713   \n",
       "1      4.525563     1.527955       0.014117    57.369216         0.729676   \n",
       "2     12.506360     3.385092       0.969819   145.799155       264.619853   \n",
       "3     12.506360     3.385092       0.969819   145.799155       264.619853   \n",
       "4      3.395771    47.373219       0.439851   183.726062       135.148537   \n",
       "\n",
       "   Length_RELIEF  Length_SELFDISC  \n",
       "0      61.440305        38.877376  \n",
       "1       2.207771         0.337286  \n",
       "2      44.332308       621.770329  \n",
       "3      44.332308       621.770329  \n",
       "4      58.362193        73.977332  \n",
       "\n",
       "[5 rows x 37 columns]"
      ]
     },
     "execution_count": 6,
     "metadata": {},
     "output_type": "execute_result"
    }
   ],
   "source": [
    "my_data =pd.read_excel(\"c07_data.xlsx\",\n",
    "                    index_col=int(0),\n",
    "                    header=int(0)\n",
    "                    )\n",
    "print(my_data.shape)\n",
    "my_data.head()"
   ]
  },
  {
   "cell_type": "markdown",
   "id": "23b741e5-2a41-400c-a29c-632463a12240",
   "metadata": {},
   "source": [
    "Check the data types of the columns. For categorical data, make sure the type is integer or objects. Make sure the categories do not contain special characters besides numbers and \"_\"."
   ]
  },
  {
   "cell_type": "code",
   "execution_count": 7,
   "id": "29015b4b-2a8a-45f4-ba1f-79a88481d1fa",
   "metadata": {},
   "outputs": [
    {
     "name": "stdout",
     "output_type": "stream",
     "text": [
      "<class 'pandas.core.frame.DataFrame'>\n",
      "Index: 98 entries, 0 to 97\n",
      "Data columns (total 37 columns):\n",
      " #   Column                Non-Null Count  Dtype  \n",
      "---  ------                --------------  -----  \n",
      " 0   QID                   98 non-null     int64  \n",
      " 1   title                 98 non-null     object \n",
      " 2   questioncontent       98 non-null     object \n",
      " 3   questiontime          98 non-null     object \n",
      " 4   category              98 non-null     object \n",
      " 5   no_answer             98 non-null     int64  \n",
      " 6   ques_viewership       98 non-null     int64  \n",
      " 7   ques_care             98 non-null     int64  \n",
      " 8   ques_save             98 non-null     int64  \n",
      " 9   user                  98 non-null     object \n",
      " 10  userID_x_x            98 non-null     int64  \n",
      " 11  userID_x_y            98 non-null     int64  \n",
      " 12  userID_y              98 non-null     int64  \n",
      " 13  user_history_answers  98 non-null     int64  \n",
      " 14  answertime            98 non-null     object \n",
      " 15  dummy_likeness        98 non-null     int64  \n",
      " 16  likeness              98 non-null     int64  \n",
      " 17  usefulness            98 non-null     int64  \n",
      " 18  comment               98 non-null     int64  \n",
      " 19  reward                98 non-null     int64  \n",
      " 20  answercontent         98 non-null     object \n",
      " 21  LIWC_Prediction       98 non-null     int64  \n",
      " 22  DL_Prediction         98 non-null     int64  \n",
      " 23  Common_Prediction     98 non-null     int64  \n",
      " 24  Length_ADVICE         98 non-null     float64\n",
      " 25  Length_AFFIRMATION    98 non-null     float64\n",
      " 26  Length_APPRAISAL      98 non-null     float64\n",
      " 27  Length_CARE           98 non-null     float64\n",
      " 28  Length_EMPATHY        98 non-null     float64\n",
      " 29  Length_ENCOURAGEMENT  98 non-null     float64\n",
      " 30  Length_GREET          98 non-null     float64\n",
      " 31  Length_INTRO          98 non-null     float64\n",
      " 32  Length_INVITE         98 non-null     float64\n",
      " 33  Length_QUES           98 non-null     float64\n",
      " 34  Length_REFERRAL       98 non-null     float64\n",
      " 35  Length_RELIEF         98 non-null     float64\n",
      " 36  Length_SELFDISC       98 non-null     float64\n",
      "dtypes: float64(13), int64(17), object(7)\n",
      "memory usage: 29.1+ KB\n"
     ]
    }
   ],
   "source": [
    "my_data.info()"
   ]
  },
  {
   "cell_type": "markdown",
   "id": "c4c15d87-81c9-40b6-8442-7059b5407583",
   "metadata": {},
   "source": [
    "Pandas thinks likeness is an integer/numeric, but it is categorical. Recast it as an object."
   ]
  },
  {
   "cell_type": "code",
   "execution_count": 8,
   "id": "4314518b-0ac4-40ca-b4ca-edf5aed5c9a3",
   "metadata": {},
   "outputs": [],
   "source": [
    "my_data = my_data.astype({\"dummy_likeness\": object, \"Common_Prediction\": object})\n"
   ]
  },
  {
   "cell_type": "markdown",
   "id": "0f5ad039-334c-4e21-bdc2-75145768c4ac",
   "metadata": {},
   "source": [
    "let's see if it changed"
   ]
  },
  {
   "cell_type": "code",
   "execution_count": 9,
   "id": "d72610f9-af12-4114-b373-7a4087ea5ec2",
   "metadata": {},
   "outputs": [
    {
     "name": "stdout",
     "output_type": "stream",
     "text": [
      "<class 'pandas.core.frame.DataFrame'>\n",
      "Index: 98 entries, 0 to 97\n",
      "Data columns (total 37 columns):\n",
      " #   Column                Non-Null Count  Dtype  \n",
      "---  ------                --------------  -----  \n",
      " 0   QID                   98 non-null     int64  \n",
      " 1   title                 98 non-null     object \n",
      " 2   questioncontent       98 non-null     object \n",
      " 3   questiontime          98 non-null     object \n",
      " 4   category              98 non-null     object \n",
      " 5   no_answer             98 non-null     int64  \n",
      " 6   ques_viewership       98 non-null     int64  \n",
      " 7   ques_care             98 non-null     int64  \n",
      " 8   ques_save             98 non-null     int64  \n",
      " 9   user                  98 non-null     object \n",
      " 10  userID_x_x            98 non-null     int64  \n",
      " 11  userID_x_y            98 non-null     int64  \n",
      " 12  userID_y              98 non-null     int64  \n",
      " 13  user_history_answers  98 non-null     int64  \n",
      " 14  answertime            98 non-null     object \n",
      " 15  dummy_likeness        98 non-null     object \n",
      " 16  likeness              98 non-null     int64  \n",
      " 17  usefulness            98 non-null     int64  \n",
      " 18  comment               98 non-null     int64  \n",
      " 19  reward                98 non-null     int64  \n",
      " 20  answercontent         98 non-null     object \n",
      " 21  LIWC_Prediction       98 non-null     int64  \n",
      " 22  DL_Prediction         98 non-null     int64  \n",
      " 23  Common_Prediction     98 non-null     object \n",
      " 24  Length_ADVICE         98 non-null     float64\n",
      " 25  Length_AFFIRMATION    98 non-null     float64\n",
      " 26  Length_APPRAISAL      98 non-null     float64\n",
      " 27  Length_CARE           98 non-null     float64\n",
      " 28  Length_EMPATHY        98 non-null     float64\n",
      " 29  Length_ENCOURAGEMENT  98 non-null     float64\n",
      " 30  Length_GREET          98 non-null     float64\n",
      " 31  Length_INTRO          98 non-null     float64\n",
      " 32  Length_INVITE         98 non-null     float64\n",
      " 33  Length_QUES           98 non-null     float64\n",
      " 34  Length_REFERRAL       98 non-null     float64\n",
      " 35  Length_RELIEF         98 non-null     float64\n",
      " 36  Length_SELFDISC       98 non-null     float64\n",
      "dtypes: float64(13), int64(15), object(9)\n",
      "memory usage: 29.1+ KB\n"
     ]
    }
   ],
   "source": [
    "my_data.info()"
   ]
  },
  {
   "cell_type": "markdown",
   "id": "fc84d003-b459-4741-bab4-847565c84150",
   "metadata": {},
   "source": [
    "here's the code we'll modify from the Titanic example:"
   ]
  },
  {
   "cell_type": "markdown",
   "id": "d7908a83-9518-4ab2-a927-d93cfd1ed2ce",
   "metadata": {},
   "source": [
    "invariant_names=[\"Age\", \"Fare\", \"SibSp\", \"Parch\"] \n",
    "categorical_names=[\"Survived\", \"Sex\",\"Pclass\", \"cabin_letter\", \"Embarked\"]\n",
    "target = \"Survived\""
   ]
  },
  {
   "cell_type": "markdown",
   "id": "29dcb4f6-eb40-45c6-87d6-fda28ffb3af5",
   "metadata": {},
   "source": [
    "we need at least two invariants for our experiment. The \"likeness\" categorical variable will be our target. We'll also need at least two categorical (property) variables, and you only see 1 below. But invariant relations will be *added* to the properties list. "
   ]
  },
  {
   "cell_type": "code",
   "execution_count": 10,
   "id": "00897893-50c6-4407-9157-be5935050a53",
   "metadata": {},
   "outputs": [],
   "source": [
    "invariant_names=[\"Length_ADVICE\", \"Length_AFFIRMATION\", \"Length_APPRAISAL\", \"Length_CARE\", \"Length_EMPATHY\", \"Length_ENCOURAGEMENT\", \"Length_GREET\", \"Length_INTRO\", \"Length_INVITE\", \"Length_QUES\", \"Length_REFERRAL\", \"Length_RELIEF\", \"Length_SELFDISC\"]\n",
    "categorical_names=[\"dummy_likeness\", \"Common_Prediction\"]\n",
    "target = \"dummy_likeness\""
   ]
  },
  {
   "cell_type": "markdown",
   "id": "76e1a5b1-5de3-4d64-b42d-4f07d60caed1",
   "metadata": {},
   "source": [
    "Generic code starts here. Rename target column. Select columns."
   ]
  },
  {
   "cell_type": "code",
   "execution_count": 11,
   "id": "268d31bc-efdd-460a-8eb7-4ef5f263a314",
   "metadata": {},
   "outputs": [
    {
     "data": {
      "text/plain": [
       "Index(['Length_ADVICE', 'Length_AFFIRMATION', 'Length_APPRAISAL',\n",
       "       'Length_CARE', 'Length_EMPATHY', 'Length_ENCOURAGEMENT', 'Length_GREET',\n",
       "       'Length_INTRO', 'Length_INVITE', 'Length_QUES', 'Length_REFERRAL',\n",
       "       'Length_RELIEF', 'Length_SELFDISC', 'TARGET', 'Common_Prediction'],\n",
       "      dtype='object')"
      ]
     },
     "execution_count": 11,
     "metadata": {},
     "output_type": "execute_result"
    }
   ],
   "source": [
    "if target in categorical_names:\n",
    "    categorical_names[categorical_names.index(target)] = \"TARGET\"\n",
    "else:\n",
    "    invariant_names[invariant_names.index(target)] = \"TARGET\"\n",
    "\n",
    "my_data = my_data.rename(columns={target: \"TARGET\"})\n",
    "my_data = my_data[invariant_names + categorical_names]\n",
    "my_data.columns"
   ]
  },
  {
   "cell_type": "markdown",
   "id": "16799658-d106-46cd-840d-70a99008781a",
   "metadata": {},
   "source": [
    "Convert categorical variables to dummies. One dummy for each binary variable and one dummy for each level for variables with more than two levels."
   ]
  },
  {
   "cell_type": "code",
   "execution_count": 12,
   "id": "17ecd055-196e-42e5-be26-2387d7a6b617",
   "metadata": {},
   "outputs": [
    {
     "data": {
      "text/html": [
       "<div>\n",
       "<style scoped>\n",
       "    .dataframe tbody tr th:only-of-type {\n",
       "        vertical-align: middle;\n",
       "    }\n",
       "\n",
       "    .dataframe tbody tr th {\n",
       "        vertical-align: top;\n",
       "    }\n",
       "\n",
       "    .dataframe thead th {\n",
       "        text-align: right;\n",
       "    }\n",
       "</style>\n",
       "<table border=\"1\" class=\"dataframe\">\n",
       "  <thead>\n",
       "    <tr style=\"text-align: right;\">\n",
       "      <th></th>\n",
       "      <th>Length_ADVICE</th>\n",
       "      <th>Length_AFFIRMATION</th>\n",
       "      <th>Length_APPRAISAL</th>\n",
       "      <th>Length_CARE</th>\n",
       "      <th>Length_EMPATHY</th>\n",
       "      <th>Length_ENCOURAGEMENT</th>\n",
       "      <th>Length_GREET</th>\n",
       "      <th>Length_INTRO</th>\n",
       "      <th>Length_INVITE</th>\n",
       "      <th>Length_QUES</th>\n",
       "      <th>Length_REFERRAL</th>\n",
       "      <th>Length_RELIEF</th>\n",
       "      <th>Length_SELFDISC</th>\n",
       "      <th>TARGET_0</th>\n",
       "      <th>TARGET_1</th>\n",
       "      <th>TARGET_nan</th>\n",
       "      <th>Common_Prediction_0</th>\n",
       "      <th>Common_Prediction_nan</th>\n",
       "    </tr>\n",
       "  </thead>\n",
       "  <tbody>\n",
       "    <tr>\n",
       "      <th>0</th>\n",
       "      <td>105.714081</td>\n",
       "      <td>63.969067</td>\n",
       "      <td>172.289472</td>\n",
       "      <td>0.738933</td>\n",
       "      <td>11.336394</td>\n",
       "      <td>19.642294</td>\n",
       "      <td>5.621919</td>\n",
       "      <td>10.037360</td>\n",
       "      <td>0.408828</td>\n",
       "      <td>51.137257</td>\n",
       "      <td>1.786713</td>\n",
       "      <td>61.440305</td>\n",
       "      <td>38.877376</td>\n",
       "      <td>1</td>\n",
       "      <td>0</td>\n",
       "      <td>0</td>\n",
       "      <td>1</td>\n",
       "      <td>0</td>\n",
       "    </tr>\n",
       "    <tr>\n",
       "      <th>1</th>\n",
       "      <td>119.746628</td>\n",
       "      <td>25.449891</td>\n",
       "      <td>70.749119</td>\n",
       "      <td>27.390583</td>\n",
       "      <td>23.651150</td>\n",
       "      <td>17.301045</td>\n",
       "      <td>4.525563</td>\n",
       "      <td>1.527955</td>\n",
       "      <td>0.014117</td>\n",
       "      <td>57.369216</td>\n",
       "      <td>0.729676</td>\n",
       "      <td>2.207771</td>\n",
       "      <td>0.337286</td>\n",
       "      <td>1</td>\n",
       "      <td>0</td>\n",
       "      <td>0</td>\n",
       "      <td>1</td>\n",
       "      <td>0</td>\n",
       "    </tr>\n",
       "    <tr>\n",
       "      <th>2</th>\n",
       "      <td>269.074948</td>\n",
       "      <td>9.596857</td>\n",
       "      <td>549.316636</td>\n",
       "      <td>0.201711</td>\n",
       "      <td>30.693097</td>\n",
       "      <td>13.733834</td>\n",
       "      <td>12.506360</td>\n",
       "      <td>3.385092</td>\n",
       "      <td>0.969819</td>\n",
       "      <td>145.799155</td>\n",
       "      <td>264.619853</td>\n",
       "      <td>44.332308</td>\n",
       "      <td>621.770329</td>\n",
       "      <td>1</td>\n",
       "      <td>0</td>\n",
       "      <td>0</td>\n",
       "      <td>1</td>\n",
       "      <td>0</td>\n",
       "    </tr>\n",
       "    <tr>\n",
       "      <th>3</th>\n",
       "      <td>269.074948</td>\n",
       "      <td>9.596857</td>\n",
       "      <td>549.316636</td>\n",
       "      <td>0.201711</td>\n",
       "      <td>30.693097</td>\n",
       "      <td>13.733834</td>\n",
       "      <td>12.506360</td>\n",
       "      <td>3.385092</td>\n",
       "      <td>0.969819</td>\n",
       "      <td>145.799155</td>\n",
       "      <td>264.619853</td>\n",
       "      <td>44.332308</td>\n",
       "      <td>621.770329</td>\n",
       "      <td>1</td>\n",
       "      <td>0</td>\n",
       "      <td>0</td>\n",
       "      <td>1</td>\n",
       "      <td>0</td>\n",
       "    </tr>\n",
       "    <tr>\n",
       "      <th>4</th>\n",
       "      <td>351.549667</td>\n",
       "      <td>22.400532</td>\n",
       "      <td>206.256765</td>\n",
       "      <td>10.001072</td>\n",
       "      <td>42.844507</td>\n",
       "      <td>16.524492</td>\n",
       "      <td>3.395771</td>\n",
       "      <td>47.373219</td>\n",
       "      <td>0.439851</td>\n",
       "      <td>183.726062</td>\n",
       "      <td>135.148537</td>\n",
       "      <td>58.362193</td>\n",
       "      <td>73.977332</td>\n",
       "      <td>1</td>\n",
       "      <td>0</td>\n",
       "      <td>0</td>\n",
       "      <td>1</td>\n",
       "      <td>0</td>\n",
       "    </tr>\n",
       "  </tbody>\n",
       "</table>\n",
       "</div>"
      ],
      "text/plain": [
       "   Length_ADVICE  Length_AFFIRMATION  Length_APPRAISAL  Length_CARE  \\\n",
       "0     105.714081           63.969067        172.289472     0.738933   \n",
       "1     119.746628           25.449891         70.749119    27.390583   \n",
       "2     269.074948            9.596857        549.316636     0.201711   \n",
       "3     269.074948            9.596857        549.316636     0.201711   \n",
       "4     351.549667           22.400532        206.256765    10.001072   \n",
       "\n",
       "   Length_EMPATHY  Length_ENCOURAGEMENT  Length_GREET  Length_INTRO  \\\n",
       "0       11.336394             19.642294      5.621919     10.037360   \n",
       "1       23.651150             17.301045      4.525563      1.527955   \n",
       "2       30.693097             13.733834     12.506360      3.385092   \n",
       "3       30.693097             13.733834     12.506360      3.385092   \n",
       "4       42.844507             16.524492      3.395771     47.373219   \n",
       "\n",
       "   Length_INVITE  Length_QUES  Length_REFERRAL  Length_RELIEF  \\\n",
       "0       0.408828    51.137257         1.786713      61.440305   \n",
       "1       0.014117    57.369216         0.729676       2.207771   \n",
       "2       0.969819   145.799155       264.619853      44.332308   \n",
       "3       0.969819   145.799155       264.619853      44.332308   \n",
       "4       0.439851   183.726062       135.148537      58.362193   \n",
       "\n",
       "   Length_SELFDISC  TARGET_0  TARGET_1  TARGET_nan  Common_Prediction_0  \\\n",
       "0        38.877376         1         0           0                    1   \n",
       "1         0.337286         1         0           0                    1   \n",
       "2       621.770329         1         0           0                    1   \n",
       "3       621.770329         1         0           0                    1   \n",
       "4        73.977332         1         0           0                    1   \n",
       "\n",
       "   Common_Prediction_nan  \n",
       "0                      0  \n",
       "1                      0  \n",
       "2                      0  \n",
       "3                      0  \n",
       "4                      0  "
      ]
     },
     "execution_count": 12,
     "metadata": {},
     "output_type": "execute_result"
    }
   ],
   "source": [
    "property_names = []\n",
    "for col in categorical_names:\n",
    "    if col != \"TARGET\":\n",
    "        unique_vals=list(my_data[col].unique())  # if nan is a level\n",
    "        #unique_vals=list(my_data[col].dropna().unique())  # if nan is not a level\n",
    "        if len(unique_vals)==2: # just use one level for binary features\n",
    "            property_names.append(col+\"_\"+str(unique_vals[1]))\n",
    "        elif len(unique_vals) > 2: #one property for each level.\n",
    "            for level in unique_vals:\n",
    "                property_names.append(col+\"_\"+str(level))\n",
    "\n",
    "\n",
    "if \"TARGET\" in categorical_names:\n",
    "    target_property_names = []\n",
    "    unique_vals = list(my_data[\"TARGET\"].unique()) # if nan is a level\n",
    "    #unique_vals = list(my_data[\"TARGET\"].dropna().unique()) # if nan is not a level\n",
    "    if len(unique_vals)==2:\n",
    "        target_property_names.append(\"TARGET_\"+str(unique_vals[1]))\n",
    "    elif len(unique_vals) > 2:\n",
    "        for level in unique_vals:\n",
    "            target_property_names.append(\"TARGET_\"+str(level))\n",
    "            \n",
    "my_df = pd.get_dummies(my_data, \n",
    "                       columns=categorical_names,\n",
    "                       dtype=np.uint8,\n",
    "                       dummy_na=True,  # False is the default.  If False, use dropna() above\n",
    "                       drop_first=False) # False is the default\n",
    "\n",
    "my_df = my_df.rename(lambda col: col.replace('.0', ''), axis='columns')\n",
    "my_df.head()"
   ]
  },
  {
   "cell_type": "markdown",
   "id": "8ae37f40-78b5-44ff-96fc-e445bcb8dafc",
   "metadata": {},
   "source": [
    "Define class, invariants, properties, and target properties (if applicable)."
   ]
  },
  {
   "cell_type": "code",
   "execution_count": 13,
   "id": "1362a7e2-cff5-4185-b098-9d7cdfc687c0",
   "metadata": {},
   "outputs": [
    {
     "name": "stdout",
     "output_type": "stream",
     "text": [
      "[]\n"
     ]
    }
   ],
   "source": [
    "class Example():\n",
    "    def __init__(self, name, mydf):\n",
    "        self.name = name\n",
    "        self.mydf = mydf\n",
    "        \n",
    "for i in invariant_names:\n",
    "    inv = build_inv(i)\n",
    "    setattr(Example,inv.__name__,inv )\n",
    "\n",
    "for i in property_names:\n",
    "    prop = build_prop(i)\n",
    "    setattr(Example, prop.__name__,prop)\n",
    "\n",
    "if \"TARGET\" in categorical_names:\n",
    "    for i in target_property_names:\n",
    "        prop = build_prop(i)\n",
    "        setattr(Example, prop.__name__, prop)\n",
    "else:\n",
    "    target_invariant = invariant_names.index(\"TARGET\")\n",
    "print(property_names)"
   ]
  },
  {
   "cell_type": "code",
   "execution_count": null,
   "id": "e8eaac3d-9ca3-4631-96aa-088cd089ffc6",
   "metadata": {},
   "outputs": [],
   "source": [
    "Split into training and testing data."
   ]
  },
  {
   "cell_type": "code",
   "execution_count": 14,
   "id": "87ee3930-8222-4c5f-95e7-3dfa80fbe156",
   "metadata": {},
   "outputs": [],
   "source": [
    "if \"TARGET\" in categorical_names:\n",
    "    X_train, X_test = train_test_split(\n",
    "        my_df.index,\n",
    "        stratify=my_data[\"TARGET\"],  # stratify on target levels\n",
    "        train_size=num_train,\n",
    "        random_state=12345\n",
    "    )\n",
    "else:\n",
    "    X_train, X_test = train_test_split(\n",
    "        my_df.index,\n",
    "        train_size=num_train,\n",
    "        random_state=12345\n",
    "    )"
   ]
  },
  {
   "cell_type": "markdown",
   "id": "cb57c0ad-9059-455d-8c23-4f3749622204",
   "metadata": {},
   "source": [
    "Create examples for conjecturing."
   ]
  },
  {
   "cell_type": "code",
   "execution_count": 15,
   "id": "afca788d-3069-4a45-9fa8-826056569a59",
   "metadata": {},
   "outputs": [],
   "source": [
    "train_examples = [Example(i, my_df) for i in X_train]\n",
    "test_examples = [Example(i, my_df) for i in X_test]"
   ]
  },
  {
   "cell_type": "markdown",
   "id": "87b85cd0-fc1d-4afa-8247-7f993d1245fe",
   "metadata": {},
   "source": [
    "Get lists of invariant and property functions."
   ]
  },
  {
   "cell_type": "code",
   "execution_count": 16,
   "id": "d8a1fb2e-fd67-4bf0-9919-3e985846decc",
   "metadata": {},
   "outputs": [],
   "source": [
    "invariants =[]\n",
    "for i in invariant_names:\n",
    "    invariants.append(Example.__dict__[i])\n",
    "properties=[]\n",
    "for i in property_names:\n",
    "    properties.append(Example.__dict__[i])\n",
    "target_properties=[]\n",
    "if \"TARGET\" in categorical_names:\n",
    "    for i in target_property_names:\n",
    "        target_properties.append(Example.__dict__[i])\n"
   ]
  },
  {
   "cell_type": "markdown",
   "id": "257bc5bb-ee88-4984-a546-648bad6c54ce",
   "metadata": {},
   "source": [
    "Invariant conjecturing - upper and lower bounds."
   ]
  },
  {
   "cell_type": "code",
   "execution_count": 17,
   "id": "489fec6b-4e46-40f3-85a8-8305f4b98a1d",
   "metadata": {},
   "outputs": [
    {
     "name": "stdout",
     "output_type": "stream",
     "text": [
      "TARGET_1\n",
      "52\n",
      "TARGET_1 False\n",
      "260\n"
     ]
    }
   ],
   "source": [
    "#define operators for expression tree to build upper bounsand lower bouns for each class\n",
    "use_operators =  { '-1', '+1', '*2', '/2', '^2', '-()', '1/', \n",
    "                  'sqrt', 'ln', 'log10', 'exp', '10^', 'ceil', \n",
    "                  'floor', 'abs', '+', '*', 'max', 'min', '-', '/', '^'}\n",
    "\n",
    "inv_conjectures = []\n",
    "\n",
    "if \"TARGET\" in categorical_names:\n",
    "    for value in target_property_names:\n",
    "        print(value)\n",
    "        target_property = Example.__dict__[value]\n",
    "        my_examples = [example for example in train_examples if target_property(example) == True]\n",
    "        for inv in invariants:\n",
    "            sys.stdout.flush()\n",
    "            inv_of_interest = invariants.index(inv)\n",
    "            conjs = conjecture(my_examples, \n",
    "                               invariants, \n",
    "                               inv_of_interest, \n",
    "                               operators=use_operators, \n",
    "                               upperBound=True, \n",
    "                               time=Integer(5)\n",
    "                             # ,debug=True,\n",
    "                             #  verbose=True,\n",
    "                               ,skips=my_skips\n",
    "                              )\n",
    "            convert_conjecture_names(conjs)\n",
    "            inv_conjectures += conjs\n",
    "\n",
    "            conjs = conjecture(my_examples, \n",
    "                               invariants, \n",
    "                               inv_of_interest, \n",
    "                               operators=use_operators, \n",
    "                               upperBound=False, \n",
    "                               time=Integer(5)\n",
    "                              ,skips=my_skips)\n",
    "            convert_conjecture_names(conjs)\n",
    "            inv_conjectures += conjs\n",
    "    print(len(inv_conjectures))\n",
    "    if len(target_property_names) == 1:\n",
    "        value = target_property_names[0]\n",
    "        print(value + \" False\")\n",
    "        target_property = Example.__dict__[value]\n",
    "        my_examples = [example for example in train_examples if target_property(example) == False]\n",
    "        for inv in invariants:\n",
    "            sys.stdout.flush()\n",
    "            inv_of_interest = invariants.index(inv)\n",
    "            conjs = conjecture(my_examples, \n",
    "                               invariants, \n",
    "                               inv_of_interest, \n",
    "                               operators=use_operators, \n",
    "                               upperBound=True, \n",
    "                               time=Integer(5)\n",
    "                             # ,debug=True,\n",
    "                             #  verbose=True,\n",
    "                               ,skips=my_skips\n",
    "                              )\n",
    "            convert_conjecture_names(conjs)\n",
    "            inv_conjectures += conjs\n",
    "\n",
    "            conjs = conjecture(my_examples, \n",
    "                               invariants, \n",
    "                               inv_of_interest, \n",
    "                               operators=use_operators, \n",
    "                               upperBound=False, \n",
    "                               time=Integer(5)\n",
    "                              ,skips=my_skips)\n",
    "            convert_conjecture_names(conjs)\n",
    "            inv_conjectures += conjs\n",
    "else: # target is an invariant\n",
    "    my_examples = [example for example in train_examples]\n",
    "    conjs = conjecture(my_examples, \n",
    "                       invariants, \n",
    "                       target_invariant, \n",
    "                       operators=use_operators, \n",
    "                       upperBound=True, \n",
    "                       time=Integer(5)\n",
    "                        # ,debug=True,\n",
    "                        #  verbose=True,\n",
    "                        ,skips=my_skips)\n",
    "    convert_conjecture_names(conjs)\n",
    "    inv_conjectures += conjs\n",
    "    conjs = conjecture(my_examples, \n",
    "                       invariants, \n",
    "                       target_invariant, \n",
    "                       operators=use_operators,\n",
    "                       upperBound=False, \n",
    "                       time=Integer(5)\n",
    "                       ,skips=my_skips)\n",
    "    convert_conjecture_names(conjs)\n",
    "    inv_conjectures += conjs     \n",
    "print(len(inv_conjectures))  \n",
    "\n",
    "for c in inv_conjectures:\n",
    "    inv_file.write(\"%s\\n\" % c)\n",
    "    inv_file.flush()\n",
    "inv_file.close()\n"
   ]
  },
  {
   "cell_type": "markdown",
   "id": "c381dd6e-d847-461d-8ee6-7c89ec3cd34d",
   "metadata": {},
   "source": [
    "\n",
    "Property conjecturing - sufficient conditions for a categorical target values. For a binary target, get sufficient conditions for the positive class and necessary conditions for the negative class."
   ]
  },
  {
   "cell_type": "code",
   "execution_count": 18,
   "id": "e422678b-b8ba-4775-9004-2cd626062eee",
   "metadata": {},
   "outputs": [
    {
     "name": "stdout",
     "output_type": "stream",
     "text": [
      "TARGET_1\n"
     ]
    },
    {
     "name": "stderr",
     "output_type": "stream",
     "text": [
      "/lustre/home/clarson/conjecturing/sage/conjecturing.py:177: RuntimeWarning: overflow encountered in scalar power\n",
      "  stack.append(op(left, right))\n",
      "/lustre/home/clarson/conjecturing/sage/conjecturing.py:132: RuntimeWarning: overflow encountered in exp\n",
      "  stack.append(op(stack.pop()))\n",
      "/lustre/home/clarson/anaconda3/envs/sage/lib/python3.11/site-packages/sage/misc/functional.py:1209: RuntimeWarning: invalid value encountered in log\n",
      "  return ln(args[0], **kwds)\n",
      "/lustre/home/clarson/conjecturing/sage/conjecturing.py:279: RuntimeWarning: overflow encountered in scalar power\n",
      "  return (lambda x: 10**x), 1\n",
      "/lustre/home/clarson/conjecturing/sage/conjecturing.py:147: RuntimeWarning: invalid value encountered in equal\n",
      "  elif op == operator.pow and (right == Infinity or right == float('inf')):\n",
      "/lustre/home/clarson/conjecturing/sage/conjecturing.py:154: RuntimeWarning: invalid value encountered in equal\n",
      "  elif op == operator.pow and (right == -Infinity or right == float('-inf')):\n",
      "/lustre/home/clarson/conjecturing/sage/conjecturing.py:267: RuntimeWarning: overflow encountered in scalar multiply\n",
      "  return (lambda x: x*x), 1\n"
     ]
    },
    {
     "name": "stdout",
     "output_type": "stream",
     "text": [
      "(Length_APPRAISAL_leq__minus_open_bracket_Length_EMPATHY_plus_Length_INTRO_close_bracket_times_logopen_bracket_Length_CARE_close_bracket)->(TARGET_1)\n",
      "TARGET_1 Necessary\n",
      "(TARGET_1)->(Length_APPRAISAL_leq__minus_open_bracket_Length_EMPATHY_plus_Length_INTRO_close_bracket_times_logopen_bracket_Length_CARE_close_bracket)\n"
     ]
    }
   ],
   "source": [
    "all_properties = [\"TARGET\"] + properties + inv_conjectures #\"TARGET\" is just a placeholder\n",
    "prop_conjs = []\n",
    "conditions = []\n",
    "if \"TARGET\" in categorical_names:\n",
    "    for value in target_property_names:\n",
    "        print(value)\n",
    "        all_properties[0] = Example.__dict__[value]\n",
    "        #print(all_properties)\n",
    "        these_prop_conjs = propertyBasedConjecture(objects=train_examples, # edit here 6/27/23\n",
    "                                           properties = all_properties,\n",
    "                                           mainProperty=0,\n",
    "                                           #verbose=True,\n",
    "                                           #debug=True,\n",
    "                                           skips=my_skips)\n",
    "        for c in these_prop_conjs: # edit here 6/27/23 just get premises once\n",
    "            conditions.append(get_premise(c, myprint=False))\n",
    "        prop_conjs += these_prop_conjs\n",
    "    if len(target_property_names) == 1:\n",
    "        print(value + \" Necessary\")\n",
    "        all_properties[0] = Example.__dict__[value]\n",
    "        these_prop_conjs = propertyBasedConjecture(objects=train_examples,  # edit here 6/27/23\n",
    "                                           properties = all_properties,\n",
    "                                           mainProperty=0,\n",
    "                                           sufficient=False,\n",
    "                                           #verbose=True,\n",
    "                                            #  debug=True,\n",
    "                                             skips=my_skips)\n",
    "        for c in these_prop_conjs:\n",
    "            conditions.append(get_conclusion(c, myprint=False))\n",
    "        prop_conjs += these_prop_conjs  # edit here 6/27/23\n",
    "        \n",
    "for c in prop_conjs:\n",
    "    prop_file.write(\"%s\\n\" % convert_name_back(c.__name__))\n",
    "    prop_file.flush()\n",
    "    \n",
    "prop_file.close()"
   ]
  },
  {
   "cell_type": "markdown",
   "id": "b7bf47f8-9953-4e32-b8b3-ab49847e6c42",
   "metadata": {},
   "source": [
    "How many property conjectures are there?"
   ]
  },
  {
   "cell_type": "code",
   "execution_count": 19,
   "id": "78ffef20-c214-42c3-a5c1-7993b90d10d5",
   "metadata": {},
   "outputs": [
    {
     "data": {
      "text/plain": [
       "2"
      ]
     },
     "execution_count": 19,
     "metadata": {},
     "output_type": "execute_result"
    }
   ],
   "source": [
    "len(prop_conjs)"
   ]
  },
  {
   "cell_type": "markdown",
   "id": "e792ec88-ae1d-4ac1-a8d8-7662a2974da7",
   "metadata": {},
   "source": [
    "Let's look at one of these property conjectures. Name the 0th one \"conj0\" and print it."
   ]
  },
  {
   "cell_type": "code",
   "execution_count": 27,
   "id": "21a39266-f898-4cb1-845a-77951828d156",
   "metadata": {},
   "outputs": [
    {
     "name": "stdout",
     "output_type": "stream",
     "text": [
      "(Length_APPRAISAL_leq__minus_open_bracket_Length_EMPATHY_plus_Length_INTRO_close_bracket_times_logopen_bracket_Length_CARE_close_bracket)->(TARGET_1)\n"
     ]
    }
   ],
   "source": [
    "conj0=prop_conjs[0]\n",
    "print(conj0)"
   ]
  },
  {
   "cell_type": "markdown",
   "id": "65103613-baa2-4951-bc47-fcf1aab26a6e",
   "metadata": {},
   "source": [
    "The CONJECTURING program uses names that can't have special characters. So they are converted to a harder-to-read format. They can be converted back. Convert the string associated to conj0 to a more readable form."
   ]
  },
  {
   "cell_type": "code",
   "execution_count": 22,
   "id": "bdcfc457-62b8-4267-8f9b-c47938696ff7",
   "metadata": {},
   "outputs": [
    {
     "data": {
      "text/plain": [
       "'(Length_APPRAISAL<=-(Length_EMPATHY+Length_INTRO)*log(Length_CARE))->(TARGET_1)'"
      ]
     },
     "execution_count": 22,
     "metadata": {},
     "output_type": "execute_result"
    }
   ],
   "source": [
    "convert_name_back(conj0.__name__)"
   ]
  },
  {
   "cell_type": "markdown",
   "id": "c8bbebcb-a4fe-48f0-b5fc-b1db7865f816",
   "metadata": {},
   "source": [
    "Let's test this conjecture using the test examples. How many are there?"
   ]
  },
  {
   "cell_type": "code",
   "execution_count": 23,
   "id": "adcbb6e8-2193-42be-b893-6fe3d818703b",
   "metadata": {},
   "outputs": [
    {
     "data": {
      "text/plain": [
       "88"
      ]
     },
     "execution_count": 23,
     "metadata": {},
     "output_type": "execute_result"
    }
   ],
   "source": [
    "len(test_examples)"
   ]
  },
  {
   "cell_type": "markdown",
   "id": "3f4fcfcf-6685-484a-858c-4a152d1ce1ed",
   "metadata": {},
   "source": [
    "Let's give the 0th test example the name example0"
   ]
  },
  {
   "cell_type": "code",
   "execution_count": 24,
   "id": "594e102a-3965-4fc0-a4e2-36c07f612fca",
   "metadata": {},
   "outputs": [],
   "source": [
    "example0 = test_examples[0]"
   ]
  },
  {
   "cell_type": "markdown",
   "id": "f2c21936-ddbd-4008-838a-f2e9efc1d5fc",
   "metadata": {},
   "source": [
    "Let's see if conjecture \"conj0\" is true for example \"exxample0\" using the \"evaluate\" method for CONJECTURE objects."
   ]
  },
  {
   "cell_type": "code",
   "execution_count": 25,
   "id": "38503535-5c0f-4786-b713-42baa3976f15",
   "metadata": {},
   "outputs": [
    {
     "data": {
      "text/plain": [
       "True"
      ]
     },
     "execution_count": 25,
     "metadata": {},
     "output_type": "execute_result"
    }
   ],
   "source": [
    "conj0.evaluate(example0)"
   ]
  },
  {
   "cell_type": "markdown",
   "id": "0988b28d-c648-4d50-aad1-0b16274b6b1a",
   "metadata": {},
   "source": [
    "Now let's see how many of the 88 test examples are true of conjecture \"conj0\""
   ]
  },
  {
   "cell_type": "code",
   "execution_count": 26,
   "id": "32d13c0b-fdc8-4b33-8833-1a73bc607c42",
   "metadata": {},
   "outputs": [
    {
     "name": "stdout",
     "output_type": "stream",
     "text": [
      "84\n"
     ]
    }
   ],
   "source": [
    "count = 0\n",
    "for example in test_examples:\n",
    "    if conj0.evaluate(example) == True:\n",
    "        count = count + 1\n",
    "print(count)        "
   ]
  },
  {
   "cell_type": "markdown",
   "id": "9a1f3081-00eb-49b9-849a-2b5210c65d2a",
   "metadata": {},
   "source": [
    "What does this mean?"
   ]
  }
 ],
 "metadata": {
  "kernelspec": {
   "display_name": "SageMath 10.2",
   "language": "sage",
   "name": "sagemath"
  },
  "language_info": {
   "codemirror_mode": {
    "name": "ipython",
    "version": 3
   },
   "file_extension": ".py",
   "mimetype": "text/x-python",
   "name": "python",
   "nbconvert_exporter": "python",
   "pygments_lexer": "ipython3",
   "version": "3.11.7"
  }
 },
 "nbformat": 4,
 "nbformat_minor": 5
}
