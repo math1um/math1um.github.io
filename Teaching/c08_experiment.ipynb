{
 "cells": [
  {
   "cell_type": "markdown",
   "id": "035f786e-f83c-48e3-8ea0-ea3d0dcae9b7",
   "metadata": {},
   "source": [
    "We will copy the commands from the Titanic example and apply them to a new data set (c08_data.xlsx)"
   ]
  },
  {
   "cell_type": "code",
   "execution_count": null,
   "id": "e401eb02-1838-4c43-a85e-a1fcbd8f2773",
   "metadata": {},
   "outputs": [],
   "source": [
    "import pandas as pd\n",
    "import numpy as np\n",
    "import sys\n",
    "from sklearn.model_selection import train_test_split\n",
    "load(\"~/conjecturing/sage/conjecturing.py\")"
   ]
  },
  {
   "cell_type": "code",
   "execution_count": null,
   "id": "38810b6e-cc5d-4b7d-85cb-b0733ff22fe7",
   "metadata": {},
   "outputs": [],
   "source": [
    "inv_file = open(\"2024_02_20_inv.txt\", \"w\")\n",
    "prop_file = open(\"2024_02_20_prop.txt\", \"w\")"
   ]
  },
  {
   "cell_type": "code",
   "execution_count": null,
   "id": "5cc32817-dedc-4cfb-a03a-46cebe77b518",
   "metadata": {},
   "outputs": [],
   "source": [
    "num_train = 100\n",
    "my_skips = 0.3"
   ]
  },
  {
   "cell_type": "code",
   "execution_count": null,
   "id": "3a7de976-325c-4741-8672-645147d9f877",
   "metadata": {},
   "outputs": [],
   "source": [
    "my_data =pd.read_excel(\"c08_data.xlsx\",\n",
    "                    header=int(0),\n",
    "                    sheet_name = \"Sheet1\"   \n",
    "                    )\n",
    "print(my_data.shape)\n",
    "my_data.head()"
   ]
  },
  {
   "cell_type": "markdown",
   "id": "91ba86f1-c178-40a3-abb3-46c447d593c9",
   "metadata": {},
   "source": [
    "Check the data types of the columns. For categorical data, make sure the type is integer or objects. Make sure the categories do not contain special characters besides numbers and \"_\"."
   ]
  },
  {
   "cell_type": "code",
   "execution_count": null,
   "id": "41fcbe8c-a2c2-46b3-a6b1-949ce98c1bcf",
   "metadata": {},
   "outputs": [],
   "source": [
    "my_data.info()"
   ]
  },
  {
   "cell_type": "code",
   "execution_count": null,
   "id": "d6cdcd52-fe5d-4cd4-9b7a-dd38a9a8fdce",
   "metadata": {},
   "outputs": [],
   "source": [
    "#\"PTSURV_T\", \"PT_HOS_T\"\n",
    "my_data = my_data.astype({\"PTSURV_T\": object, \"PT_HOS_T\": object})\n"
   ]
  },
  {
   "cell_type": "markdown",
   "id": "14d2087c-fa57-4647-9ed2-f8dd15172cea",
   "metadata": {},
   "source": [
    "The data has NaNs and missing data. We want to \"drop\" the rows where our TARGET doesn't have a value."
   ]
  },
  {
   "cell_type": "code",
   "execution_count": null,
   "id": "4d536298-7267-4d72-ad89-f0f133905eab",
   "metadata": {},
   "outputs": [],
   "source": [
    "my_data.dropna(subset=[\"PTSURV_T\"], inplace=True)\n",
    "#my_data.dropna().reset_index(drop=True)"
   ]
  },
  {
   "cell_type": "markdown",
   "id": "2c03f40b-4189-4dd5-8ff5-b44cf8d9bde3",
   "metadata": {},
   "source": [
    "we need at least two invariants for our experiment. The \"PTSURV_T\" categorical variable will be our target. We'll also need at least two categorical (property) variables, and you only see 1 below. But invariant relations will be added to the properties list."
   ]
  },
  {
   "cell_type": "code",
   "execution_count": null,
   "id": "f2d7e502-93ed-4d46-9eb1-d15f7d5e0984",
   "metadata": {},
   "outputs": [],
   "source": [
    "#invariant_names=[\"Tx_R_O1\", \"N_Tx_Ctr1\", \"N_R_Ctr1\", \"N_Center\", \"M_R_O1\", \"M_R_ST1\",   \"N_PT_TRANS_S\", \"PT_TRANS_T1\", \"N_PTSURV_SUM\", \"N_PT_HOS_S\", \"VAVF_F\", \"N_DP_HGBD12\", \"N_DP_HGBD\", \"HOMEHD\", \"PD\", \"HD\", \"TOTSTAS\"]\n",
    "invariant_names=[\"Weighted_HIE_DSA\", \"Flagging_ratio\", \"Tx_R_O1\", \"N_Tx_Ctr1\"]\n",
    "\n",
    "categorical_names=[\"PTSURV_T\", \"PT_HOS_T\"]\n",
    "target = \"PTSURV_T\""
   ]
  },
  {
   "cell_type": "markdown",
   "id": "74fd1d53-5bcf-464e-a5a1-791c81cc2dab",
   "metadata": {},
   "source": [
    "Generic code starts here. Rename target column. Select columns."
   ]
  },
  {
   "cell_type": "code",
   "execution_count": null,
   "id": "9990ecf4-f506-48fa-8922-8bc8440cb091",
   "metadata": {},
   "outputs": [],
   "source": [
    "if target in categorical_names:\n",
    "    categorical_names[categorical_names.index(target)] = \"TARGET\"\n",
    "else:\n",
    "    invariant_names[invariant_names.index(target)] = \"TARGET\"\n",
    "\n",
    "my_data = my_data.rename(columns={target: \"TARGET\"})\n",
    "my_data = my_data[invariant_names + categorical_names]\n",
    "my_data.columns"
   ]
  },
  {
   "cell_type": "markdown",
   "id": "9d757d91-4fe5-4bcd-90cc-4a018d07f9d9",
   "metadata": {},
   "source": [
    "Convert categorical variables to dummies. One dummy for each binary variable and one dummy for each level for variables with more than two levels."
   ]
  },
  {
   "cell_type": "code",
   "execution_count": null,
   "id": "38c80796-8967-4aa5-9b7e-c0b0861dfda3",
   "metadata": {},
   "outputs": [],
   "source": [
    "property_names = []\n",
    "for col in categorical_names:\n",
    "    if col != \"TARGET\":\n",
    "        unique_vals=list(my_data[col].unique())  # if nan is a level\n",
    "        #unique_vals=list(my_data[col].dropna().unique())  # if nan is not a level\n",
    "        if len(unique_vals)==2: # just use one level for binary features\n",
    "            property_names.append(col+\"_\"+str(unique_vals[1]))\n",
    "        elif len(unique_vals) > 2: #one property for each level.\n",
    "            for level in unique_vals:\n",
    "                property_names.append(col+\"_\"+str(level))\n",
    "\n",
    "\n",
    "if \"TARGET\" in categorical_names:\n",
    "    target_property_names = []\n",
    "    unique_vals = list(my_data[\"TARGET\"].unique()) # if nan is a level\n",
    "    #unique_vals = list(my_data[\"TARGET\"].dropna().unique()) # if nan is not a level\n",
    "    if len(unique_vals)==2:\n",
    "        target_property_names.append(\"TARGET_\"+str(unique_vals[1]))\n",
    "    elif len(unique_vals) > 2:\n",
    "        for level in unique_vals:\n",
    "            target_property_names.append(\"TARGET_\"+str(level))\n",
    "            \n",
    "my_df = pd.get_dummies(my_data, \n",
    "                       columns=categorical_names,\n",
    "                       dtype=np.uint8,\n",
    "                       dummy_na=True,  # False is the default.  If False, use dropna() above\n",
    "                       drop_first=False) # False is the default\n",
    "\n",
    "my_df = my_df.rename(lambda col: col.replace('.0', ''), axis='columns')\n",
    "my_df.head()\n",
    "\n",
    "\n"
   ]
  },
  {
   "cell_type": "markdown",
   "id": "067b98e4-fb10-431c-b918-c9ac45892919",
   "metadata": {},
   "source": [
    "Define class, invariants, properties, and target properties (if applicable)."
   ]
  },
  {
   "cell_type": "code",
   "execution_count": null,
   "id": "ec0e892a-7938-4b20-9d04-a0f6e730fae7",
   "metadata": {},
   "outputs": [],
   "source": [
    "class Example():\n",
    "    def __init__(self, name, mydf):\n",
    "        self.name = name\n",
    "        self.mydf = mydf\n",
    "        \n",
    "for i in invariant_names:\n",
    "    inv = build_inv(i)\n",
    "    setattr(Example,inv.__name__,inv )\n",
    "\n",
    "for i in property_names:\n",
    "    prop = build_prop(i)\n",
    "    setattr(Example, prop.__name__,prop)\n",
    "\n",
    "if \"TARGET\" in categorical_names:\n",
    "    for i in target_property_names:\n",
    "        prop = build_prop(i)\n",
    "        setattr(Example, prop.__name__, prop)\n",
    "else:\n",
    "    target_invariant = invariant_names.index(\"TARGET\")\n",
    "print(property_names)"
   ]
  },
  {
   "cell_type": "markdown",
   "id": "c7aebd93-8245-46a8-85d7-697fcebbb82a",
   "metadata": {},
   "source": [
    "Split into training and testing data."
   ]
  },
  {
   "cell_type": "code",
   "execution_count": null,
   "id": "fd431027-9d93-412d-b14d-b9547cf458d7",
   "metadata": {},
   "outputs": [],
   "source": [
    "if \"TARGET\" in categorical_names:\n",
    "    X_train, X_test = train_test_split(\n",
    "        my_df.index,\n",
    "        stratify=my_data[\"TARGET\"],  # stratify on target levels\n",
    "        train_size=num_train,\n",
    "        random_state=12345\n",
    "    )\n",
    "else:\n",
    "    X_train, X_test = train_test_split(\n",
    "        my_df.index,\n",
    "        train_size=num_train,\n",
    "        random_state=12345\n",
    "    )"
   ]
  },
  {
   "cell_type": "markdown",
   "id": "2e5d0755-2db6-46bb-9916-6016cb502b30",
   "metadata": {},
   "source": [
    "Create examples for conjecturing."
   ]
  },
  {
   "cell_type": "code",
   "execution_count": null,
   "id": "ab708e4c-149f-4131-acfd-81c20d8ad679",
   "metadata": {},
   "outputs": [],
   "source": [
    "train_examples = [Example(i, my_df) for i in X_train]\n",
    "test_examples = [Example(i, my_df) for i in X_test]"
   ]
  },
  {
   "cell_type": "markdown",
   "id": "64526050-ab9f-4259-85c3-5a754e3304b6",
   "metadata": {},
   "source": [
    "Get lists of invariant and property functions."
   ]
  },
  {
   "cell_type": "code",
   "execution_count": null,
   "id": "bce9c42d-5399-437a-b2ef-6fee338e0f90",
   "metadata": {},
   "outputs": [],
   "source": [
    "invariants =[]\n",
    "for i in invariant_names:\n",
    "    invariants.append(Example.__dict__[i])\n",
    "properties=[]\n",
    "for i in property_names:\n",
    "    properties.append(Example.__dict__[i])\n",
    "target_properties=[]\n",
    "if \"TARGET\" in categorical_names:\n",
    "    for i in target_property_names:\n",
    "        target_properties.append(Example.__dict__[i])\n"
   ]
  },
  {
   "cell_type": "markdown",
   "id": "a65a69e3-8d7c-4a25-a1d1-0222c3fa85b6",
   "metadata": {},
   "source": [
    "Invariant conjecturing - upper and lower bounds."
   ]
  },
  {
   "cell_type": "code",
   "execution_count": null,
   "id": "918f7c42-3348-48aa-8393-8fb9b13981d5",
   "metadata": {},
   "outputs": [],
   "source": [
    "#define operators for expression tree to build upper bounsand lower bouns for each class\n",
    "use_operators =  { '-1', '+1', '*2', '/2', '^2', '-()', '1/', \n",
    "                  'sqrt', 'ceil', \n",
    "                  'floor', 'abs', '+', '*', 'max', 'min', '-', '/'}\n",
    "\n",
    "inv_conjectures = []\n",
    "\n",
    "if \"TARGET\" in categorical_names:\n",
    "    for value in target_property_names:\n",
    "        print(value)\n",
    "        target_property = Example.__dict__[value]\n",
    "        my_examples = [example for example in train_examples if target_property(example) == True]\n",
    "        for inv in invariants:\n",
    "            sys.stdout.flush()\n",
    "            inv_of_interest = invariants.index(inv)\n",
    "            conjs = conjecture(my_examples, \n",
    "                               invariants, \n",
    "                               inv_of_interest, \n",
    "                               operators=use_operators, \n",
    "                               upperBound=True, \n",
    "                               time=Integer(5)\n",
    "                             # ,debug=True,\n",
    "                             #  verbose=True,\n",
    "                               ,skips=my_skips\n",
    "                              )\n",
    "            convert_conjecture_names(conjs)\n",
    "            inv_conjectures += conjs\n",
    "\n",
    "            conjs = conjecture(my_examples, \n",
    "                               invariants, \n",
    "                               inv_of_interest, \n",
    "                               operators=use_operators, \n",
    "                               upperBound=False, \n",
    "                               time=Integer(5)\n",
    "                              ,skips=my_skips)\n",
    "            convert_conjecture_names(conjs)\n",
    "            inv_conjectures += conjs\n",
    "    print(len(inv_conjectures))\n",
    "    if len(target_property_names) == 1:\n",
    "        value = target_property_names[0]\n",
    "        print(value + \" False\")\n",
    "        target_property = Example.__dict__[value]\n",
    "        my_examples = [example for example in train_examples if target_property(example) == False]\n",
    "        for inv in invariants:\n",
    "            sys.stdout.flush()\n",
    "            inv_of_interest = invariants.index(inv)\n",
    "            conjs = conjecture(my_examples, \n",
    "                               invariants, \n",
    "                               inv_of_interest, \n",
    "                               operators=use_operators, \n",
    "                               upperBound=True, \n",
    "                               time=Integer(5)\n",
    "                             # ,debug=True,\n",
    "                             #  verbose=True,\n",
    "                               ,skips=my_skips\n",
    "                              )\n",
    "            convert_conjecture_names(conjs)\n",
    "            inv_conjectures += conjs\n",
    "\n",
    "            conjs = conjecture(my_examples, \n",
    "                               invariants, \n",
    "                               inv_of_interest, \n",
    "                               operators=use_operators, \n",
    "                               upperBound=False, \n",
    "                               time=Integer(5)\n",
    "                              ,skips=my_skips)\n",
    "            convert_conjecture_names(conjs)\n",
    "            inv_conjectures += conjs\n",
    "else: # target is an invariant\n",
    "    my_examples = [example for example in train_examples]\n",
    "    conjs = conjecture(my_examples, \n",
    "                       invariants, \n",
    "                       target_invariant, \n",
    "                       operators=use_operators, \n",
    "                       upperBound=True, \n",
    "                       time=Integer(5)\n",
    "                        # ,debug=True,\n",
    "                        #  verbose=True,\n",
    "                        ,skips=my_skips)\n",
    "    convert_conjecture_names(conjs)\n",
    "    inv_conjectures += conjs\n",
    "    conjs = conjecture(my_examples, \n",
    "                       invariants, \n",
    "                       target_invariant, \n",
    "                       operators=use_operators,\n",
    "                       upperBound=False, \n",
    "                       time=Integer(5)\n",
    "                       ,skips=my_skips)\n",
    "    convert_conjecture_names(conjs)\n",
    "    inv_conjectures += conjs     \n",
    "print(len(inv_conjectures))  \n",
    "\n",
    "for c in inv_conjectures:\n",
    "    inv_file.write(\"%s\\n\" % c)\n",
    "    inv_file.flush()\n",
    "inv_file.close()\n"
   ]
  },
  {
   "cell_type": "markdown",
   "id": "79a1347a-e3c8-466a-a77c-c9dc6b18ac05",
   "metadata": {},
   "source": [
    "Property conjecturing - sufficient conditions for a categorical target values. For a binary target, get sufficient conditions for the positive class and necessary conditions for the negative class."
   ]
  },
  {
   "cell_type": "code",
   "execution_count": null,
   "id": "ab87afcf-b417-477c-b31e-481380b6fc10",
   "metadata": {},
   "outputs": [],
   "source": [
    "all_properties = [\"TARGET\"] + properties + inv_conjectures #\"TARGET\" is just a placeholder\n",
    "prop_conjs = []\n",
    "conditions = []\n",
    "if \"TARGET\" in categorical_names:\n",
    "    for value in target_property_names:\n",
    "        print(value)\n",
    "        all_properties[0] = Example.__dict__[value]\n",
    "        #print(all_properties)\n",
    "        these_prop_conjs = propertyBasedConjecture(objects=train_examples, # edit here 6/27/23\n",
    "                                           properties = all_properties,\n",
    "                                           mainProperty=0,\n",
    "                                           #verbose=True,\n",
    "                                           #debug=True,\n",
    "                                           skips=my_skips)\n",
    "        for c in these_prop_conjs: # edit here 6/27/23 just get premises once\n",
    "            conditions.append(get_premise(c, myprint=False))\n",
    "        prop_conjs += these_prop_conjs\n",
    "    if len(target_property_names) == 1:\n",
    "        print(value + \" Necessary\")\n",
    "        all_properties[0] = Example.__dict__[value]\n",
    "        these_prop_conjs = propertyBasedConjecture(objects=train_examples,  # edit here 6/27/23\n",
    "                                           properties = all_properties,\n",
    "                                           mainProperty=0,\n",
    "                                           sufficient=False,\n",
    "                                           #verbose=True,\n",
    "                                            #  debug=True,\n",
    "                                             skips=my_skips)\n",
    "        for c in these_prop_conjs:\n",
    "            conditions.append(get_conclusion(c, myprint=False))\n",
    "        prop_conjs += these_prop_conjs  # edit here 6/27/23\n",
    "        \n",
    "for c in prop_conjs:\n",
    "    prop_file.write(\"%s\\n\" % convert_name_back(c.__name__))\n",
    "    prop_file.flush()\n",
    "    \n",
    "prop_file.close()"
   ]
  },
  {
   "cell_type": "code",
   "execution_count": null,
   "id": "0c495bf3-c081-4a99-bf60-7cec3ea9c84e",
   "metadata": {},
   "outputs": [],
   "source": [
    "for conj in prop_conjs:\n",
    "    print(convert_name_back(conj.__name__))"
   ]
  },
  {
   "cell_type": "code",
   "execution_count": null,
   "id": "7ec53048-c786-44d1-9c62-4fde2fdcdba0",
   "metadata": {},
   "outputs": [],
   "source": []
  }
 ],
 "metadata": {
  "kernelspec": {
   "display_name": "SageMath 10.2",
   "language": "sage",
   "name": "sagemath"
  },
  "language_info": {
   "codemirror_mode": {
    "name": "ipython",
    "version": 3
   },
   "file_extension": ".py",
   "mimetype": "text/x-python",
   "name": "python",
   "nbconvert_exporter": "python",
   "pygments_lexer": "ipython3",
   "version": "3.11.7"
  }
 },
 "nbformat": 4,
 "nbformat_minor": 5
}
