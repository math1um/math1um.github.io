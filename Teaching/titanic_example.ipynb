{
 "cells": [
  {
   "cell_type": "markdown",
   "metadata": {
    "collapsed": false
   },
   "source": [
    "# Titanic Example\n",
    "\n",
    "- Updated NAs and creating dummies\n",
    "TODO\n",
    "- modeling?\n",
    "\n",
    "Load libraries.\n",
    "\n"
   ]
  },
  {
   "cell_type": "markdown",
   "metadata": {
    "collapsed": false
   },
   "source": [
    "One time only package installation command below \\(to install sklearn\\). You will **not** need to run this when you repurpose this worksheet to use CONJECTURING for your own data.\n"
   ]
  },
  {
   "cell_type": "code",
   "execution_count": 0,
   "metadata": {
    "collapsed": false
   },
   "outputs": [
   ],
   "source": [
    "pip install scikit-learn\n"
   ]
  },
  {
   "cell_type": "code",
   "execution_count": 6,
   "metadata": {
    "collapsed": false
   },
   "outputs": [
   ],
   "source": [
    "import pandas as pd\n",
    "import numpy as np\n",
    "import sys\n",
    "from sklearn.model_selection import train_test_split\n",
    "load(\"conjecturing.py\")"
   ]
  },
  {
   "cell_type": "code",
   "execution_count": 3,
   "metadata": {
    "collapsed": false
   },
   "outputs": [
   ],
   "source": [
    "inv_file = open(\"2024_02_20_inv.txt\", \"w\")\n",
    "prop_file = open(\"2024_02_20_prop.txt\", \"w\")"
   ]
  },
  {
   "cell_type": "code",
   "execution_count": 11,
   "metadata": {
    "collapsed": true
   },
   "outputs": [
    {
     "data": {
      "text/plain": [
       "<class '_io.TextIOWrapper'>"
      ]
     },
     "execution_count": 11,
     "metadata": {
     },
     "output_type": "execute_result"
    }
   ],
   "source": [
    "type(inv_file)"
   ]
  },
  {
   "cell_type": "markdown",
   "metadata": {
    "collapsed": false,
    "tags": [
    ]
   },
   "source": [
    "Specify the number of examples to use for conjecturing and skips."
   ]
  },
  {
   "cell_type": "code",
   "execution_count": 4,
   "metadata": {
    "collapsed": false
   },
   "outputs": [
   ],
   "source": [
    "num_train = 10\n",
    "my_skips = 0.3"
   ]
  },
  {
   "cell_type": "markdown",
   "metadata": {
    "collapsed": false
   },
   "source": [
    "Read data.  "
   ]
  },
  {
   "cell_type": "code",
   "execution_count": 7,
   "metadata": {
    "collapsed": true,
    "scrolled": true
   },
   "outputs": [
    {
     "name": "stdout",
     "output_type": "stream",
     "text": [
      "(891, 11)\n"
     ]
    },
    {
     "data": {
      "text/html": [
       "<div>\n",
       "<style scoped>\n",
       "    .dataframe tbody tr th:only-of-type {\n",
       "        vertical-align: middle;\n",
       "    }\n",
       "\n",
       "    .dataframe tbody tr th {\n",
       "        vertical-align: top;\n",
       "    }\n",
       "\n",
       "    .dataframe thead th {\n",
       "        text-align: right;\n",
       "    }\n",
       "</style>\n",
       "<table border=\"1\" class=\"dataframe\">\n",
       "  <thead>\n",
       "    <tr style=\"text-align: right;\">\n",
       "      <th></th>\n",
       "      <th>Survived</th>\n",
       "      <th>Pclass</th>\n",
       "      <th>Name</th>\n",
       "      <th>Sex</th>\n",
       "      <th>Age</th>\n",
       "      <th>SibSp</th>\n",
       "      <th>Parch</th>\n",
       "      <th>Ticket</th>\n",
       "      <th>Fare</th>\n",
       "      <th>Cabin</th>\n",
       "      <th>Embarked</th>\n",
       "    </tr>\n",
       "    <tr>\n",
       "      <th>PassengerId</th>\n",
       "      <th></th>\n",
       "      <th></th>\n",
       "      <th></th>\n",
       "      <th></th>\n",
       "      <th></th>\n",
       "      <th></th>\n",
       "      <th></th>\n",
       "      <th></th>\n",
       "      <th></th>\n",
       "      <th></th>\n",
       "      <th></th>\n",
       "    </tr>\n",
       "  </thead>\n",
       "  <tbody>\n",
       "    <tr>\n",
       "      <th>1</th>\n",
       "      <td>0</td>\n",
       "      <td>3</td>\n",
       "      <td>Braund, Mr. Owen Harris</td>\n",
       "      <td>male</td>\n",
       "      <td>22.0</td>\n",
       "      <td>1</td>\n",
       "      <td>0</td>\n",
       "      <td>A/5 21171</td>\n",
       "      <td>7.2500</td>\n",
       "      <td>NaN</td>\n",
       "      <td>S</td>\n",
       "    </tr>\n",
       "    <tr>\n",
       "      <th>2</th>\n",
       "      <td>1</td>\n",
       "      <td>1</td>\n",
       "      <td>Cumings, Mrs. John Bradley (Florence Briggs Th...</td>\n",
       "      <td>female</td>\n",
       "      <td>38.0</td>\n",
       "      <td>1</td>\n",
       "      <td>0</td>\n",
       "      <td>PC 17599</td>\n",
       "      <td>71.2833</td>\n",
       "      <td>C85</td>\n",
       "      <td>C</td>\n",
       "    </tr>\n",
       "    <tr>\n",
       "      <th>3</th>\n",
       "      <td>1</td>\n",
       "      <td>3</td>\n",
       "      <td>Heikkinen, Miss. Laina</td>\n",
       "      <td>female</td>\n",
       "      <td>26.0</td>\n",
       "      <td>0</td>\n",
       "      <td>0</td>\n",
       "      <td>STON/O2. 3101282</td>\n",
       "      <td>7.9250</td>\n",
       "      <td>NaN</td>\n",
       "      <td>S</td>\n",
       "    </tr>\n",
       "    <tr>\n",
       "      <th>4</th>\n",
       "      <td>1</td>\n",
       "      <td>1</td>\n",
       "      <td>Futrelle, Mrs. Jacques Heath (Lily May Peel)</td>\n",
       "      <td>female</td>\n",
       "      <td>35.0</td>\n",
       "      <td>1</td>\n",
       "      <td>0</td>\n",
       "      <td>113803</td>\n",
       "      <td>53.1000</td>\n",
       "      <td>C123</td>\n",
       "      <td>S</td>\n",
       "    </tr>\n",
       "    <tr>\n",
       "      <th>5</th>\n",
       "      <td>0</td>\n",
       "      <td>3</td>\n",
       "      <td>Allen, Mr. William Henry</td>\n",
       "      <td>male</td>\n",
       "      <td>35.0</td>\n",
       "      <td>0</td>\n",
       "      <td>0</td>\n",
       "      <td>373450</td>\n",
       "      <td>8.0500</td>\n",
       "      <td>NaN</td>\n",
       "      <td>S</td>\n",
       "    </tr>\n",
       "  </tbody>\n",
       "</table>\n",
       "</div>"
      ],
      "text/plain": [
       "             Survived  Pclass   \n",
       "PassengerId                     \n",
       "1                   0       3  \\\n",
       "2                   1       1   \n",
       "3                   1       3   \n",
       "4                   1       1   \n",
       "5                   0       3   \n",
       "\n",
       "                                                          Name     Sex   Age   \n",
       "PassengerId                                                                    \n",
       "1                                      Braund, Mr. Owen Harris    male  22.0  \\\n",
       "2            Cumings, Mrs. John Bradley (Florence Briggs Th...  female  38.0   \n",
       "3                                       Heikkinen, Miss. Laina  female  26.0   \n",
       "4                 Futrelle, Mrs. Jacques Heath (Lily May Peel)  female  35.0   \n",
       "5                                     Allen, Mr. William Henry    male  35.0   \n",
       "\n",
       "             SibSp  Parch            Ticket     Fare Cabin Embarked  \n",
       "PassengerId                                                          \n",
       "1                1      0         A/5 21171   7.2500   NaN        S  \n",
       "2                1      0          PC 17599  71.2833   C85        C  \n",
       "3                0      0  STON/O2. 3101282   7.9250   NaN        S  \n",
       "4                1      0            113803  53.1000  C123        S  \n",
       "5                0      0            373450   8.0500   NaN        S  "
      ]
     },
     "execution_count": 7,
     "metadata": {
     },
     "output_type": "execute_result"
    }
   ],
   "source": [
    "my_data =pd.read_csv(\"train.csv\",\n",
    "                    index_col=int(0),\n",
    "                    header=int(0)\n",
    "                    )\n",
    "print(my_data.shape)\n",
    "my_data.head()"
   ]
  },
  {
   "cell_type": "markdown",
   "metadata": {
    "collapsed": false
   },
   "source": [
    "Check the data types of the columns.  For categorical data, make sure the type is integer or objects.  Make sure the categories do not contain special characters besides numbers and \"_\".\n",
    "\n"
   ]
  },
  {
   "cell_type": "code",
   "execution_count": 14,
   "metadata": {
    "collapsed": true,
    "scrolled": true
   },
   "outputs": [
    {
     "name": "stdout",
     "output_type": "stream",
     "text": [
      "<class 'pandas.core.frame.DataFrame'>\n",
      "Index: 891 entries, 1 to 891\n",
      "Data columns (total 11 columns):\n",
      " #   Column    Non-Null Count  Dtype  \n",
      "---  ------    --------------  -----  \n",
      " 0   Survived  891 non-null    int64  \n",
      " 1   Pclass    891 non-null    int64  \n",
      " 2   Name      891 non-null    object \n",
      " 3   Sex       891 non-null    object \n",
      " 4   Age       714 non-null    float64\n",
      " 5   SibSp     891 non-null    int64  \n",
      " 6   Parch     891 non-null    int64  \n",
      " 7   Ticket    891 non-null    object \n",
      " 8   Fare      891 non-null    float64\n",
      " 9   Cabin     204 non-null    object \n",
      " 10  Embarked  889 non-null    object \n",
      "dtypes: float64(2), int64(4), object(5)\n",
      "memory usage: 83.5+ KB\n"
     ]
    }
   ],
   "source": [
    "my_data.info()"
   ]
  },
  {
   "cell_type": "markdown",
   "metadata": {
    "collapsed": false
   },
   "source": [
    "Pandas thinks Survived and Pclass are integers/numeric, but they are categorical.  Recast them as objects."
   ]
  },
  {
   "cell_type": "code",
   "execution_count": 15,
   "metadata": {
    "collapsed": false
   },
   "outputs": [
   ],
   "source": [
    "my_data = my_data.astype({\"Survived\": object, \"Pclass\": object})"
   ]
  },
  {
   "cell_type": "markdown",
   "metadata": {
    "collapsed": false
   },
   "source": [
    "Create a new feature which is the first letter of the cabin."
   ]
  },
  {
   "cell_type": "code",
   "execution_count": 16,
   "metadata": {
    "collapsed": false
   },
   "outputs": [
   ],
   "source": [
    "my_data[\"cabin_letter\"]=my_data[\"Cabin\"].str[:1]"
   ]
  },
  {
   "cell_type": "markdown",
   "metadata": {
    "collapsed": false
   },
   "source": [
    "Identify invariant and categorical columns and the target column.  The target should be in one of the lists."
   ]
  },
  {
   "cell_type": "code",
   "execution_count": 17,
   "metadata": {
    "collapsed": false
   },
   "outputs": [
   ],
   "source": [
    "invariant_names=[\"Age\", \"Fare\", \"SibSp\", \"Parch\"] \n",
    "categorical_names=[\"Survived\", \"Sex\",\"Pclass\", \"cabin_letter\", \"Embarked\"]\n",
    "target = \"Survived\""
   ]
  },
  {
   "cell_type": "markdown",
   "metadata": {
    "collapsed": false
   },
   "source": [
    "Generic code starts here.  Rename target column.  Select columns."
   ]
  },
  {
   "cell_type": "code",
   "execution_count": 18,
   "metadata": {
    "collapsed": false
   },
   "outputs": [
    {
     "data": {
      "text/plain": [
       "Index(['Age', 'Fare', 'SibSp', 'Parch', 'TARGET', 'Sex', 'Pclass',\n",
       "       'cabin_letter', 'Embarked'],\n",
       "      dtype='object')"
      ]
     },
     "execution_count": 18,
     "metadata": {
     },
     "output_type": "execute_result"
    }
   ],
   "source": [
    "if target in categorical_names:\n",
    "    categorical_names[categorical_names.index(target)] = \"TARGET\"\n",
    "else:\n",
    "    invariant_names[invariant_names.index(target)] = \"TARGET\"\n",
    "\n",
    "my_data = my_data.rename(columns={target: \"TARGET\"})\n",
    "my_data = my_data[invariant_names + categorical_names]\n",
    "my_data.columns"
   ]
  },
  {
   "cell_type": "markdown",
   "metadata": {
    "collapsed": false
   },
   "source": [
    "Convert categorical variables to dummies.  One dummy for each binary variable and one dummy for each level for variables with more than two levels."
   ]
  },
  {
   "cell_type": "code",
   "execution_count": 19,
   "metadata": {
    "collapsed": true,
    "scrolled": true
   },
   "outputs": [
    {
     "data": {
      "text/html": [
       "<div>\n",
       "<style scoped>\n",
       "    .dataframe tbody tr th:only-of-type {\n",
       "        vertical-align: middle;\n",
       "    }\n",
       "\n",
       "    .dataframe tbody tr th {\n",
       "        vertical-align: top;\n",
       "    }\n",
       "\n",
       "    .dataframe thead th {\n",
       "        text-align: right;\n",
       "    }\n",
       "</style>\n",
       "<table border=\"1\" class=\"dataframe\">\n",
       "  <thead>\n",
       "    <tr style=\"text-align: right;\">\n",
       "      <th></th>\n",
       "      <th>Age</th>\n",
       "      <th>Fare</th>\n",
       "      <th>SibSp</th>\n",
       "      <th>Parch</th>\n",
       "      <th>TARGET_0</th>\n",
       "      <th>TARGET_1</th>\n",
       "      <th>TARGET_nan</th>\n",
       "      <th>Sex_female</th>\n",
       "      <th>Sex_male</th>\n",
       "      <th>Sex_nan</th>\n",
       "      <th>...</th>\n",
       "      <th>cabin_letter_D</th>\n",
       "      <th>cabin_letter_E</th>\n",
       "      <th>cabin_letter_F</th>\n",
       "      <th>cabin_letter_G</th>\n",
       "      <th>cabin_letter_T</th>\n",
       "      <th>cabin_letter_nan</th>\n",
       "      <th>Embarked_C</th>\n",
       "      <th>Embarked_Q</th>\n",
       "      <th>Embarked_S</th>\n",
       "      <th>Embarked_nan</th>\n",
       "    </tr>\n",
       "    <tr>\n",
       "      <th>PassengerId</th>\n",
       "      <th></th>\n",
       "      <th></th>\n",
       "      <th></th>\n",
       "      <th></th>\n",
       "      <th></th>\n",
       "      <th></th>\n",
       "      <th></th>\n",
       "      <th></th>\n",
       "      <th></th>\n",
       "      <th></th>\n",
       "      <th></th>\n",
       "      <th></th>\n",
       "      <th></th>\n",
       "      <th></th>\n",
       "      <th></th>\n",
       "      <th></th>\n",
       "      <th></th>\n",
       "      <th></th>\n",
       "      <th></th>\n",
       "      <th></th>\n",
       "      <th></th>\n",
       "    </tr>\n",
       "  </thead>\n",
       "  <tbody>\n",
       "    <tr>\n",
       "      <th>1</th>\n",
       "      <td>22.0</td>\n",
       "      <td>7.2500</td>\n",
       "      <td>1</td>\n",
       "      <td>0</td>\n",
       "      <td>1</td>\n",
       "      <td>0</td>\n",
       "      <td>0</td>\n",
       "      <td>0</td>\n",
       "      <td>1</td>\n",
       "      <td>0</td>\n",
       "      <td>...</td>\n",
       "      <td>0</td>\n",
       "      <td>0</td>\n",
       "      <td>0</td>\n",
       "      <td>0</td>\n",
       "      <td>0</td>\n",
       "      <td>1</td>\n",
       "      <td>0</td>\n",
       "      <td>0</td>\n",
       "      <td>1</td>\n",
       "      <td>0</td>\n",
       "    </tr>\n",
       "    <tr>\n",
       "      <th>2</th>\n",
       "      <td>38.0</td>\n",
       "      <td>71.2833</td>\n",
       "      <td>1</td>\n",
       "      <td>0</td>\n",
       "      <td>0</td>\n",
       "      <td>1</td>\n",
       "      <td>0</td>\n",
       "      <td>1</td>\n",
       "      <td>0</td>\n",
       "      <td>0</td>\n",
       "      <td>...</td>\n",
       "      <td>0</td>\n",
       "      <td>0</td>\n",
       "      <td>0</td>\n",
       "      <td>0</td>\n",
       "      <td>0</td>\n",
       "      <td>0</td>\n",
       "      <td>1</td>\n",
       "      <td>0</td>\n",
       "      <td>0</td>\n",
       "      <td>0</td>\n",
       "    </tr>\n",
       "    <tr>\n",
       "      <th>3</th>\n",
       "      <td>26.0</td>\n",
       "      <td>7.9250</td>\n",
       "      <td>0</td>\n",
       "      <td>0</td>\n",
       "      <td>0</td>\n",
       "      <td>1</td>\n",
       "      <td>0</td>\n",
       "      <td>1</td>\n",
       "      <td>0</td>\n",
       "      <td>0</td>\n",
       "      <td>...</td>\n",
       "      <td>0</td>\n",
       "      <td>0</td>\n",
       "      <td>0</td>\n",
       "      <td>0</td>\n",
       "      <td>0</td>\n",
       "      <td>1</td>\n",
       "      <td>0</td>\n",
       "      <td>0</td>\n",
       "      <td>1</td>\n",
       "      <td>0</td>\n",
       "    </tr>\n",
       "    <tr>\n",
       "      <th>4</th>\n",
       "      <td>35.0</td>\n",
       "      <td>53.1000</td>\n",
       "      <td>1</td>\n",
       "      <td>0</td>\n",
       "      <td>0</td>\n",
       "      <td>1</td>\n",
       "      <td>0</td>\n",
       "      <td>1</td>\n",
       "      <td>0</td>\n",
       "      <td>0</td>\n",
       "      <td>...</td>\n",
       "      <td>0</td>\n",
       "      <td>0</td>\n",
       "      <td>0</td>\n",
       "      <td>0</td>\n",
       "      <td>0</td>\n",
       "      <td>0</td>\n",
       "      <td>0</td>\n",
       "      <td>0</td>\n",
       "      <td>1</td>\n",
       "      <td>0</td>\n",
       "    </tr>\n",
       "    <tr>\n",
       "      <th>5</th>\n",
       "      <td>35.0</td>\n",
       "      <td>8.0500</td>\n",
       "      <td>0</td>\n",
       "      <td>0</td>\n",
       "      <td>1</td>\n",
       "      <td>0</td>\n",
       "      <td>0</td>\n",
       "      <td>0</td>\n",
       "      <td>1</td>\n",
       "      <td>0</td>\n",
       "      <td>...</td>\n",
       "      <td>0</td>\n",
       "      <td>0</td>\n",
       "      <td>0</td>\n",
       "      <td>0</td>\n",
       "      <td>0</td>\n",
       "      <td>1</td>\n",
       "      <td>0</td>\n",
       "      <td>0</td>\n",
       "      <td>1</td>\n",
       "      <td>0</td>\n",
       "    </tr>\n",
       "  </tbody>\n",
       "</table>\n",
       "<p>5 rows × 27 columns</p>\n",
       "</div>"
      ],
      "text/plain": [
       "              Age     Fare  SibSp  Parch  TARGET_0  TARGET_1  TARGET_nan   \n",
       "PassengerId                                                                \n",
       "1            22.0   7.2500      1      0         1         0           0  \\\n",
       "2            38.0  71.2833      1      0         0         1           0   \n",
       "3            26.0   7.9250      0      0         0         1           0   \n",
       "4            35.0  53.1000      1      0         0         1           0   \n",
       "5            35.0   8.0500      0      0         1         0           0   \n",
       "\n",
       "             Sex_female  Sex_male  Sex_nan  ...  cabin_letter_D   \n",
       "PassengerId                                 ...                   \n",
       "1                     0         1        0  ...               0  \\\n",
       "2                     1         0        0  ...               0   \n",
       "3                     1         0        0  ...               0   \n",
       "4                     1         0        0  ...               0   \n",
       "5                     0         1        0  ...               0   \n",
       "\n",
       "             cabin_letter_E  cabin_letter_F  cabin_letter_G  cabin_letter_T   \n",
       "PassengerId                                                                   \n",
       "1                         0               0               0               0  \\\n",
       "2                         0               0               0               0   \n",
       "3                         0               0               0               0   \n",
       "4                         0               0               0               0   \n",
       "5                         0               0               0               0   \n",
       "\n",
       "             cabin_letter_nan  Embarked_C  Embarked_Q  Embarked_S   \n",
       "PassengerId                                                         \n",
       "1                           1           0           0           1  \\\n",
       "2                           0           1           0           0   \n",
       "3                           1           0           0           1   \n",
       "4                           0           0           0           1   \n",
       "5                           1           0           0           1   \n",
       "\n",
       "             Embarked_nan  \n",
       "PassengerId                \n",
       "1                       0  \n",
       "2                       0  \n",
       "3                       0  \n",
       "4                       0  \n",
       "5                       0  \n",
       "\n",
       "[5 rows x 27 columns]"
      ]
     },
     "execution_count": 19,
     "metadata": {
     },
     "output_type": "execute_result"
    }
   ],
   "source": [
    "property_names = []\n",
    "for col in categorical_names:\n",
    "    if col != \"TARGET\":\n",
    "        unique_vals=list(my_data[col].unique())  # if nan is a level\n",
    "        #unique_vals=list(my_data[col].dropna().unique())  # if nan is not a level\n",
    "        if len(unique_vals)==2: # just use one level for binary features\n",
    "            property_names.append(col+\"_\"+str(unique_vals[1]))\n",
    "        elif len(unique_vals) > 2: #one property for each level.\n",
    "            for level in unique_vals:\n",
    "                property_names.append(col+\"_\"+str(level))\n",
    "\n",
    "\n",
    "if \"TARGET\" in categorical_names:\n",
    "    target_property_names = []\n",
    "    unique_vals = list(my_data[\"TARGET\"].unique()) # if nan is a level\n",
    "    #unique_vals = list(my_data[\"TARGET\"].dropna().unique()) # if nan is not a level\n",
    "    if len(unique_vals)==2:\n",
    "        target_property_names.append(\"TARGET_\"+str(unique_vals[1]))\n",
    "    elif len(unique_vals) > 2:\n",
    "        for level in unique_vals:\n",
    "            target_property_names.append(\"TARGET_\"+str(level))\n",
    "            \n",
    "my_df = pd.get_dummies(my_data, \n",
    "                       columns=categorical_names,\n",
    "                       dtype=np.uint8,\n",
    "                       dummy_na=True,  # False is the default.  If False, use dropna() above\n",
    "                       drop_first=False) # False is the default\n",
    "\n",
    "my_df = my_df.rename(lambda col: col.replace('.0', ''), axis='columns')\n",
    "my_df.head()"
   ]
  },
  {
   "cell_type": "markdown",
   "metadata": {
    "collapsed": false
   },
   "source": [
    "Define class, invariants, properties, and target properties (if applicable)."
   ]
  },
  {
   "cell_type": "code",
   "execution_count": 20,
   "metadata": {
    "collapsed": false
   },
   "outputs": [
    {
     "name": "stdout",
     "output_type": "stream",
     "text": [
      "['Sex_female', 'Pclass_3', 'Pclass_1', 'Pclass_2', 'cabin_letter_nan', 'cabin_letter_C', 'cabin_letter_E', 'cabin_letter_G', 'cabin_letter_D', 'cabin_letter_A', 'cabin_letter_B', 'cabin_letter_F', 'cabin_letter_T', 'Embarked_S', 'Embarked_C', 'Embarked_Q', 'Embarked_nan']\n"
     ]
    }
   ],
   "source": [
    "class Example():\n",
    "    def __init__(self, name, mydf):\n",
    "        self.name = name\n",
    "        self.mydf = mydf\n",
    "        \n",
    "for i in invariant_names:\n",
    "    inv = build_inv(i)\n",
    "    setattr(Example,inv.__name__,inv )\n",
    "\n",
    "for i in property_names:\n",
    "    prop = build_prop(i)\n",
    "    setattr(Example, prop.__name__,prop)\n",
    "\n",
    "if \"TARGET\" in categorical_names:\n",
    "    for i in target_property_names:\n",
    "        prop = build_prop(i)\n",
    "        setattr(Example, prop.__name__, prop)\n",
    "else:\n",
    "    target_invariant = invariant_names.index(\"TARGET\")\n",
    "print(property_names)"
   ]
  },
  {
   "cell_type": "markdown",
   "metadata": {
    "collapsed": false
   },
   "source": [
    "Split into training and testing data."
   ]
  },
  {
   "cell_type": "code",
   "execution_count": 21,
   "metadata": {
    "collapsed": false
   },
   "outputs": [
   ],
   "source": [
    "if \"TARGET\" in categorical_names:\n",
    "    X_train, X_test = train_test_split(\n",
    "        my_df.index,\n",
    "        stratify=my_data[\"TARGET\"],  # stratify on target levels\n",
    "        train_size=num_train,\n",
    "        random_state=12345\n",
    "    )\n",
    "else:\n",
    "    X_train, X_test = train_test_split(\n",
    "        my_df.index,\n",
    "        train_size=num_train,\n",
    "        random_state=12345\n",
    "    )"
   ]
  },
  {
   "cell_type": "markdown",
   "metadata": {
    "collapsed": false
   },
   "source": [
    "Create examples for conjecturing."
   ]
  },
  {
   "cell_type": "code",
   "execution_count": 22,
   "metadata": {
    "collapsed": false
   },
   "outputs": [
   ],
   "source": [
    "train_examples = [Example(i, my_df) for i in X_train]\n",
    "test_examples = [Example(i, my_df) for i in X_test]"
   ]
  },
  {
   "cell_type": "markdown",
   "metadata": {
    "collapsed": false
   },
   "source": [
    "Get lists of invariant and property functions."
   ]
  },
  {
   "cell_type": "code",
   "execution_count": 23,
   "metadata": {
    "collapsed": false
   },
   "outputs": [
   ],
   "source": [
    "invariants =[]\n",
    "for i in invariant_names:\n",
    "    invariants.append(Example.__dict__[i])\n",
    "properties=[]\n",
    "for i in property_names:\n",
    "    properties.append(Example.__dict__[i])\n",
    "target_properties=[]\n",
    "if \"TARGET\" in categorical_names:\n",
    "    for i in target_property_names:\n",
    "        target_properties.append(Example.__dict__[i])\n"
   ]
  },
  {
   "cell_type": "markdown",
   "metadata": {
    "collapsed": false
   },
   "source": [
    "Invariant conjecturing - upper and lower bounds."
   ]
  },
  {
   "cell_type": "code",
   "execution_count": 24,
   "metadata": {
    "collapsed": true,
    "scrolled": true
   },
   "outputs": [
    {
     "name": "stdout",
     "output_type": "stream",
     "text": [
      "TARGET_1\n"
     ]
    },
    {
     "name": "stdout",
     "output_type": "stream",
     "text": [
      "26\n",
      "TARGET_1 False\n"
     ]
    },
    {
     "name": "stdout",
     "output_type": "stream",
     "text": [
      "39\n"
     ]
    }
   ],
   "source": [
    "#define operators for expression tree to build upper bounsand lower bouns for each class\n",
    "use_operators =  { '-1', '+1', '*2', '/2', '^2', '-()', '1/', \n",
    "                  'sqrt', 'ln', 'log10', 'exp', '10^', 'ceil', \n",
    "                  'floor', 'abs', '+', '*', 'max', 'min', '-', '/', '^'}\n",
    "\n",
    "inv_conjectures = []\n",
    "\n",
    "if \"TARGET\" in categorical_names:\n",
    "    for value in target_property_names:\n",
    "        print(value)\n",
    "        target_property = Example.__dict__[value]\n",
    "        my_examples = [example for example in train_examples if target_property(example) == True]\n",
    "        for inv in invariants:\n",
    "            sys.stdout.flush()\n",
    "            inv_of_interest = invariants.index(inv)\n",
    "            conjs = conjecture(my_examples, \n",
    "                               invariants, \n",
    "                               inv_of_interest, \n",
    "                               operators=use_operators, \n",
    "                               upperBound=True, \n",
    "                               time=Integer(5)\n",
    "                             # ,debug=True,\n",
    "                             #  verbose=True,\n",
    "                               ,skips=my_skips\n",
    "                              )\n",
    "            convert_conjecture_names(conjs)\n",
    "            inv_conjectures += conjs\n",
    "\n",
    "            conjs = conjecture(my_examples, \n",
    "                               invariants, \n",
    "                               inv_of_interest, \n",
    "                               operators=use_operators, \n",
    "                               upperBound=False, \n",
    "                               time=Integer(5)\n",
    "                              ,skips=my_skips)\n",
    "            convert_conjecture_names(conjs)\n",
    "            inv_conjectures += conjs\n",
    "    print(len(inv_conjectures))\n",
    "    if len(target_property_names) == 1:\n",
    "        value = target_property_names[0]\n",
    "        print(value + \" False\")\n",
    "        target_property = Example.__dict__[value]\n",
    "        my_examples = [example for example in train_examples if target_property(example) == False]\n",
    "        for inv in invariants:\n",
    "            sys.stdout.flush()\n",
    "            inv_of_interest = invariants.index(inv)\n",
    "            conjs = conjecture(my_examples, \n",
    "                               invariants, \n",
    "                               inv_of_interest, \n",
    "                               operators=use_operators, \n",
    "                               upperBound=True, \n",
    "                               time=Integer(5)\n",
    "                             # ,debug=True,\n",
    "                             #  verbose=True,\n",
    "                               ,skips=my_skips\n",
    "                              )\n",
    "            convert_conjecture_names(conjs)\n",
    "            inv_conjectures += conjs\n",
    "\n",
    "            conjs = conjecture(my_examples, \n",
    "                               invariants, \n",
    "                               inv_of_interest, \n",
    "                               operators=use_operators, \n",
    "                               upperBound=False, \n",
    "                               time=Integer(5)\n",
    "                              ,skips=my_skips)\n",
    "            convert_conjecture_names(conjs)\n",
    "            inv_conjectures += conjs\n",
    "else: # target is an invariant\n",
    "    my_examples = [example for example in train_examples]\n",
    "    conjs = conjecture(my_examples, \n",
    "                       invariants, \n",
    "                       target_invariant, \n",
    "                       operators=use_operators, \n",
    "                       upperBound=True, \n",
    "                       time=Integer(5)\n",
    "                        # ,debug=True,\n",
    "                        #  verbose=True,\n",
    "                        ,skips=my_skips)\n",
    "    convert_conjecture_names(conjs)\n",
    "    inv_conjectures += conjs\n",
    "    conjs = conjecture(my_examples, \n",
    "                       invariants, \n",
    "                       target_invariant, \n",
    "                       operators=use_operators,\n",
    "                       upperBound=False, \n",
    "                       time=Integer(5)\n",
    "                       ,skips=my_skips)\n",
    "    convert_conjecture_names(conjs)\n",
    "    inv_conjectures += conjs     \n",
    "print(len(inv_conjectures))  \n",
    "\n",
    "for c in inv_conjectures:\n",
    "    inv_file.write(\"%s\\n\" % c)\n",
    "    inv_file.flush()\n",
    "inv_file.close()\n"
   ]
  },
  {
   "cell_type": "markdown",
   "metadata": {
    "collapsed": false
   },
   "source": [
    "Property conjecturing - sufficient conditions for a categorical target values.  For a binary target, get sufficient conditions for the positive class and necessary conditions for the negative class."
   ]
  },
  {
   "cell_type": "code",
   "execution_count": 25,
   "metadata": {
    "collapsed": true,
    "scrolled": true
   },
   "outputs": [
    {
     "name": "stdout",
     "output_type": "stream",
     "text": [
      "TARGET_1\n"
     ]
    },
    {
     "name": "stderr",
     "output_type": "stream",
     "text": [
      "/ext/sage/10.0/src/sage/misc/functional.py:1179: RuntimeWarning: divide by zero encountered in log\n",
      "  return ln(args[0], **kwds)\n",
      "/ext/sage/10.0/src/sage/misc/functional.py:1179: RuntimeWarning: invalid value encountered in log\n",
      "  return ln(args[0], **kwds)\n"
     ]
    },
    {
     "name": "stdout",
     "output_type": "stream",
     "text": [
      "(Sex_female)->(TARGET_1)\n",
      "(Pclass_2)->(TARGET_1)\n",
      "(cabin_letter_C)->(TARGET_1)\n",
      "(~(Fare_leq_10_to_the_power_e_to_the_power_open_bracket_e_to_the_power_SibSp_divided_by_10_to_the_power_Parch_close_bracket))->(TARGET_1)\n",
      "TARGET_1 Necessary\n",
      "(TARGET_1)->(Age_leq_2_divided_by_SibSp)\n",
      "(TARGET_1)->((Fare_leq_maximumopen_bracket_logopen_bracket_Age_close_bracket_or_logopen_bracket__minus_SibSp_close_bracket_close_bracket_squared)->(Sex_female))\n"
     ]
    }
   ],
   "source": [
    "all_properties = [\"TARGET\"] + properties + inv_conjectures #\"TARGET\" is just a placeholder\n",
    "prop_conjs = []\n",
    "conditions = []\n",
    "if \"TARGET\" in categorical_names:\n",
    "    for value in target_property_names:\n",
    "        print(value)\n",
    "        all_properties[0] = Example.__dict__[value]\n",
    "        #print(all_properties)\n",
    "        these_prop_conjs = propertyBasedConjecture(objects=train_examples, # edit here 6/27/23\n",
    "                                           properties = all_properties,\n",
    "                                           mainProperty=0,\n",
    "                                           #verbose=True,\n",
    "                                           #debug=True,\n",
    "                                           skips=my_skips)\n",
    "        for c in these_prop_conjs: # edit here 6/27/23 just get premises once\n",
    "            conditions.append(get_premise(c, myprint=False))\n",
    "        prop_conjs += these_prop_conjs\n",
    "    if len(target_property_names) == 1:\n",
    "        print(value + \" Necessary\")\n",
    "        all_properties[0] = Example.__dict__[value]\n",
    "        these_prop_conjs = propertyBasedConjecture(objects=train_examples,  # edit here 6/27/23\n",
    "                                           properties = all_properties,\n",
    "                                           mainProperty=0,\n",
    "                                           sufficient=False,\n",
    "                                           #verbose=True,\n",
    "                                            #  debug=True,\n",
    "                                             skips=my_skips)\n",
    "        for c in these_prop_conjs:\n",
    "            conditions.append(get_conclusion(c, myprint=False))\n",
    "        prop_conjs += these_prop_conjs  # edit here 6/27/23\n",
    "        \n",
    "for c in prop_conjs:\n",
    "    prop_file.write(\"%s\\n\" % convert_name_back(c.__name__))\n",
    "    prop_file.flush()\n",
    "    \n",
    "prop_file.close()"
   ]
  },
  {
   "cell_type": "markdown",
   "metadata": {
    "collapsed": false
   },
   "source": [
    "Apply conjectures to train and test data."
   ]
  },
  {
   "cell_type": "code",
   "execution_count": 26,
   "metadata": {
    "collapsed": true,
    "scrolled": true
   },
   "outputs": [
    {
     "name": "stderr",
     "output_type": "stream",
     "text": [
      "./conjecturing.py:279: RuntimeWarning: overflow encountered in double_scalars\n",
      "  return (lambda x: 10**x), 1\n"
     ]
    },
    {
     "name": "stderr",
     "output_type": "stream",
     "text": [
      "/ext/sage/10.0/src/sage/misc/functional.py:1179: RuntimeWarning: divide by zero encountered in log\n",
      "  return ln(args[0], **kwds)\n",
      "/ext/sage/10.0/src/sage/misc/functional.py:1179: RuntimeWarning: invalid value encountered in log\n",
      "  return ln(args[0], **kwds)\n",
      "/ext/sage/10.0/src/sage/misc/functional.py:1179: RuntimeWarning: invalid value encountered in log\n",
      "  return ln(args[0], **kwds)\n",
      "/ext/sage/10.0/src/sage/misc/functional.py:1179: RuntimeWarning: divide by zero encountered in log\n",
      "  return ln(args[0], **kwds)\n"
     ]
    },
    {
     "data": {
      "text/html": [
       "<div>\n",
       "<style scoped>\n",
       "    .dataframe tbody tr th:only-of-type {\n",
       "        vertical-align: middle;\n",
       "    }\n",
       "\n",
       "    .dataframe tbody tr th {\n",
       "        vertical-align: top;\n",
       "    }\n",
       "\n",
       "    .dataframe thead th {\n",
       "        text-align: right;\n",
       "    }\n",
       "</style>\n",
       "<table border=\"1\" class=\"dataframe\">\n",
       "  <thead>\n",
       "    <tr style=\"text-align: right;\">\n",
       "      <th></th>\n",
       "      <th>Sex_female</th>\n",
       "      <th>Pclass_3</th>\n",
       "      <th>Pclass_1</th>\n",
       "      <th>Pclass_2</th>\n",
       "      <th>cabin_letter_nan</th>\n",
       "      <th>cabin_letter_C</th>\n",
       "      <th>cabin_letter_E</th>\n",
       "      <th>cabin_letter_G</th>\n",
       "      <th>cabin_letter_D</th>\n",
       "      <th>cabin_letter_A</th>\n",
       "      <th>...</th>\n",
       "      <th>Age</th>\n",
       "      <th>Fare</th>\n",
       "      <th>SibSp</th>\n",
       "      <th>Parch</th>\n",
       "      <th>conj_0</th>\n",
       "      <th>conj_1</th>\n",
       "      <th>conj_2</th>\n",
       "      <th>conj_3</th>\n",
       "      <th>conj_4</th>\n",
       "      <th>conj_5</th>\n",
       "    </tr>\n",
       "    <tr>\n",
       "      <th>PassengerId</th>\n",
       "      <th></th>\n",
       "      <th></th>\n",
       "      <th></th>\n",
       "      <th></th>\n",
       "      <th></th>\n",
       "      <th></th>\n",
       "      <th></th>\n",
       "      <th></th>\n",
       "      <th></th>\n",
       "      <th></th>\n",
       "      <th></th>\n",
       "      <th></th>\n",
       "      <th></th>\n",
       "      <th></th>\n",
       "      <th></th>\n",
       "      <th></th>\n",
       "      <th></th>\n",
       "      <th></th>\n",
       "      <th></th>\n",
       "      <th></th>\n",
       "      <th></th>\n",
       "    </tr>\n",
       "  </thead>\n",
       "  <tbody>\n",
       "    <tr>\n",
       "      <th>852</th>\n",
       "      <td>0</td>\n",
       "      <td>1</td>\n",
       "      <td>0</td>\n",
       "      <td>0</td>\n",
       "      <td>1</td>\n",
       "      <td>0</td>\n",
       "      <td>0</td>\n",
       "      <td>0</td>\n",
       "      <td>0</td>\n",
       "      <td>0</td>\n",
       "      <td>...</td>\n",
       "      <td>74.0</td>\n",
       "      <td>7.775</td>\n",
       "      <td>0</td>\n",
       "      <td>0</td>\n",
       "      <td>False</td>\n",
       "      <td>False</td>\n",
       "      <td>False</td>\n",
       "      <td>False</td>\n",
       "      <td>True</td>\n",
       "      <td>False</td>\n",
       "    </tr>\n",
       "    <tr>\n",
       "      <th>549</th>\n",
       "      <td>0</td>\n",
       "      <td>1</td>\n",
       "      <td>0</td>\n",
       "      <td>0</td>\n",
       "      <td>1</td>\n",
       "      <td>0</td>\n",
       "      <td>0</td>\n",
       "      <td>0</td>\n",
       "      <td>0</td>\n",
       "      <td>0</td>\n",
       "      <td>...</td>\n",
       "      <td>33.0</td>\n",
       "      <td>20.525</td>\n",
       "      <td>1</td>\n",
       "      <td>1</td>\n",
       "      <td>False</td>\n",
       "      <td>False</td>\n",
       "      <td>False</td>\n",
       "      <td>False</td>\n",
       "      <td>False</td>\n",
       "      <td>True</td>\n",
       "    </tr>\n",
       "    <tr>\n",
       "      <th>789</th>\n",
       "      <td>0</td>\n",
       "      <td>1</td>\n",
       "      <td>0</td>\n",
       "      <td>0</td>\n",
       "      <td>1</td>\n",
       "      <td>0</td>\n",
       "      <td>0</td>\n",
       "      <td>0</td>\n",
       "      <td>0</td>\n",
       "      <td>0</td>\n",
       "      <td>...</td>\n",
       "      <td>1.0</td>\n",
       "      <td>20.575</td>\n",
       "      <td>1</td>\n",
       "      <td>2</td>\n",
       "      <td>False</td>\n",
       "      <td>False</td>\n",
       "      <td>False</td>\n",
       "      <td>True</td>\n",
       "      <td>True</td>\n",
       "      <td>True</td>\n",
       "    </tr>\n",
       "    <tr>\n",
       "      <th>81</th>\n",
       "      <td>0</td>\n",
       "      <td>1</td>\n",
       "      <td>0</td>\n",
       "      <td>0</td>\n",
       "      <td>1</td>\n",
       "      <td>0</td>\n",
       "      <td>0</td>\n",
       "      <td>0</td>\n",
       "      <td>0</td>\n",
       "      <td>0</td>\n",
       "      <td>...</td>\n",
       "      <td>22.0</td>\n",
       "      <td>9.000</td>\n",
       "      <td>0</td>\n",
       "      <td>0</td>\n",
       "      <td>False</td>\n",
       "      <td>False</td>\n",
       "      <td>False</td>\n",
       "      <td>False</td>\n",
       "      <td>True</td>\n",
       "      <td>False</td>\n",
       "    </tr>\n",
       "    <tr>\n",
       "      <th>431</th>\n",
       "      <td>0</td>\n",
       "      <td>0</td>\n",
       "      <td>1</td>\n",
       "      <td>0</td>\n",
       "      <td>0</td>\n",
       "      <td>1</td>\n",
       "      <td>0</td>\n",
       "      <td>0</td>\n",
       "      <td>0</td>\n",
       "      <td>0</td>\n",
       "      <td>...</td>\n",
       "      <td>28.0</td>\n",
       "      <td>26.550</td>\n",
       "      <td>0</td>\n",
       "      <td>0</td>\n",
       "      <td>False</td>\n",
       "      <td>False</td>\n",
       "      <td>True</td>\n",
       "      <td>False</td>\n",
       "      <td>True</td>\n",
       "      <td>True</td>\n",
       "    </tr>\n",
       "  </tbody>\n",
       "</table>\n",
       "<p>5 rows × 27 columns</p>\n",
       "</div>"
      ],
      "text/plain": [
       "             Sex_female  Pclass_3  Pclass_1  Pclass_2  cabin_letter_nan   \n",
       "PassengerId                                                               \n",
       "852                   0         1         0         0                 1  \\\n",
       "549                   0         1         0         0                 1   \n",
       "789                   0         1         0         0                 1   \n",
       "81                    0         1         0         0                 1   \n",
       "431                   0         0         1         0                 0   \n",
       "\n",
       "             cabin_letter_C  cabin_letter_E  cabin_letter_G  cabin_letter_D   \n",
       "PassengerId                                                                   \n",
       "852                       0               0               0               0  \\\n",
       "549                       0               0               0               0   \n",
       "789                       0               0               0               0   \n",
       "81                        0               0               0               0   \n",
       "431                       1               0               0               0   \n",
       "\n",
       "             cabin_letter_A  ...   Age    Fare  SibSp  Parch  conj_0  conj_1   \n",
       "PassengerId                  ...                                               \n",
       "852                       0  ...  74.0   7.775      0      0   False   False  \\\n",
       "549                       0  ...  33.0  20.525      1      1   False   False   \n",
       "789                       0  ...   1.0  20.575      1      2   False   False   \n",
       "81                        0  ...  22.0   9.000      0      0   False   False   \n",
       "431                       0  ...  28.0  26.550      0      0   False   False   \n",
       "\n",
       "             conj_2  conj_3  conj_4  conj_5  \n",
       "PassengerId                                  \n",
       "852           False   False    True   False  \n",
       "549           False   False   False    True  \n",
       "789           False    True    True    True  \n",
       "81            False   False    True   False  \n",
       "431            True   False    True    True  \n",
       "\n",
       "[5 rows x 27 columns]"
      ]
     },
     "execution_count": 26,
     "metadata": {
     },
     "output_type": "execute_result"
    }
   ],
   "source": [
    "X_train_df = my_df.loc[X_train,property_names+invariant_names]  # drop target and one level for each binary variable\n",
    "X_test_df = my_df.loc[X_test,property_names+invariant_names]\n",
    "y_train_df = my_data.loc[X_train,\"TARGET\"] # get original target, even if it is multiple levels\n",
    "y_test_df = my_data.loc[X_test, \"TARGET\"]\n",
    "for i, condition in enumerate(conditions):\n",
    "    X_train_df['conj_' + str(i)] = [condition(example) for example in train_examples]\n",
    "    X_test_df['conj_' + str(i)] = [condition(example) for example in test_examples]\n",
    "    \n",
    "X_train_df.head()\n",
    "    "
   ]
  }
 ],
 "metadata": {
  "kernelspec": {
   "argv": [
    "sage-10.0",
    "--python",
    "-m",
    "sage.repl.ipython_kernel",
    "--matplotlib=inline",
    "-f",
    "{connection_file}"
   ],
   "display_name": "SageMath 10.0",
   "env": {
   },
   "language": "sagemath",
   "metadata": {
    "cocalc": {
     "description": "Open-source mathematical software system",
     "priority": 10,
     "url": "https://www.sagemath.org/"
    }
   },
   "name": "sage-10.0",
   "resource_dir": "/ext/jupyter/kernels/sage-10.0"
  },
  "language_info": {
   "codemirror_mode": {
    "name": "ipython",
    "version": 3
   },
   "file_extension": ".py",
   "mimetype": "text/x-python",
   "name": "python",
   "nbconvert_exporter": "python",
   "pygments_lexer": "ipython3",
   "version": "3.11.1"
  }
 },
 "nbformat": 4,
 "nbformat_minor": 4
}